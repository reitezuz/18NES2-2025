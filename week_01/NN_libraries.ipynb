{
  "nbformat": 4,
  "nbformat_minor": 0,
  "metadata": {
    "colab": {
      "provenance": [],
      "toc_visible": true,
      "gpuType": "T4",
      "authorship_tag": "ABX9TyPIUB9XVjCf4FVI4SeWmgLy",
      "include_colab_link": true
    },
    "kernelspec": {
      "name": "python3",
      "display_name": "Python 3"
    },
    "language_info": {
      "name": "python"
    },
    "accelerator": "GPU"
  },
  "cells": [
    {
      "cell_type": "markdown",
      "metadata": {
        "id": "view-in-github",
        "colab_type": "text"
      },
      "source": [
        "<a href=\"https://colab.research.google.com/github/reitezuz/18NES2-2025/blob/main/week_01/NN_libraries.ipynb\" target=\"_parent\"><img src=\"https://colab.research.google.com/assets/colab-badge.svg\" alt=\"Open In Colab\"/></a>"
      ]
    },
    {
      "cell_type": "markdown",
      "source": [
        "# Introduction to the deep-learning libraries in Python on a simple example (Breast Cancer Dataset)\n",
        "\n",
        "### Deep Learning Libraries:\n",
        "\n",
        "- **TensorFlow, PyTorch**: Low-level deep learning frameworks for defining and optimizing neural networks.\n",
        "- **Keras**: High-level API that simplifies deep learning model creation, primarily built on TensorFlow (but can also work with other backends).\n",
        "- **Lightning**: High-level API built on PyTorch, providing structured training loops and scalability.\n",
        "\n",
        "### Other Useful Libraries:\n",
        "\n",
        "- **Scikit-learn (sklearn)**: Utilities for dataset handling, preprocessing, and evaluation.\n",
        "- **NumPy**: Efficient numerical computing, handling arrays and tensor-like structures.\n",
        "- **Pandas**: Ideal for working with structured datasets, especially those containing categorical variables or missing values. Provides tools for data manipulation, filtering, and aggregation.\n",
        "\n",
        "\n",
        "### Visualization Libraries:\n",
        "\n",
        "- **Matplotlib:** The most widely used Python library for static visualizations (line plots, histograms, scatter plots, etc.).\n",
        "- **Seaborn:** Built on Matplotlib, provides beautiful and easy-to-use statistical visualizations.\n",
        "- **Plotly:** Interactive visualizations, useful for dashboards and deep exploration of data.\n",
        "- **TensorBoard:** Built-in visualization tool for TensorFlow, used for monitoring model training and performance metrics.\n",
        "\n",
        "### Machine Learning Workflow\n",
        "1. Process the data\n",
        "  - 1. Load, observe and analyze the data\n",
        "  - 2. Clean and preprocess the data\n",
        "2. Define the model\n",
        "  - 1. Define the model architecture (type of the model, number of layers, activation functions)\n",
        "  - 2. Set model hyperparameters (learning rate, batch size, optimizer, loss function,...)\n",
        "3. Train the model\n",
        "4. Evaluate the model and make predictions\n",
        "   - 1. Assess model performance on training, validation and test data\n",
        "   - 2. Use the trained model to predict on new unseen data"
      ],
      "metadata": {
        "id": "ApKpYJwGmBLV"
      }
    },
    {
      "cell_type": "markdown",
      "source": [
        "## 1. Process the data\n",
        "1. Load and analyze the data\n",
        " - load the Breat Cancer Dataset (https://archive.ics.uci.edu/dataset/17/breast+cancer+wisconsin+diagnostic, https://scikit-learn.org/stable/api/sklearn.datasets.html, https://scikit-learn.org/stable/modules/generated/sklearn.datasets.load_breast_cancer.html)\n",
        "    - a nice dataset of 569 samples and 30 input features (real, positive) and one output featue\n",
        "\n"
      ],
      "metadata": {
        "id": "HOw_rL0gof9a"
      }
    },
    {
      "cell_type": "code",
      "source": [
        "from sklearn.datasets import load_breast_cancer\n",
        "import numpy as np\n",
        "\n",
        "# Load and observe the data:\n",
        "cancer = load_breast_cancer()  # dict\n",
        "print(cancer.keys())\n",
        "\n",
        "# Observe shape:\n",
        "print(\"Input data shape:\", cancer['data'].shape)\n",
        "print(\"Target data shape:\", cancer['target'].shape, \"\\n\")\n",
        "\n",
        "# Analyze the label distribution:\n",
        "print(\"Target names:\", cancer['target_names'])\n",
        "print(\"Target distribution:\", np.bincount(cancer['target']), \"\\n\")\n",
        "\n",
        "# Observe input data:\n",
        "print(\"Feature names:\", cancer['feature_names'] )\n",
        "print(\"Minimum, mean and maximum input data values: \", np.min(cancer['data']), np.mean(cancer['data']), np.max(cancer['data']))\n",
        "#print(\"Feature means:\", np.mean(cancer['data'], axis=0))\n",
        "#print(\"Feature description:\", cancer['DESCR'])  # description of the data\n",
        "print()\n",
        "\n",
        "# Check for missing values\n",
        "print(\"Number of missing values in the data:\", np.sum(np.isnan(cancer['data'])))\n",
        "print(\"Number of missing values in the labels:\", np.sum(np.isnan(cancer['target'])))\n",
        "print()\n",
        "\n",
        "import pandas as pd\n",
        "df = pd.DataFrame(cancer['data'], columns=cancer['feature_names']) # Create a Pandas DataFrame for easier analysis\n",
        "#print(df.describe())                                               # Calculate statistics for each column"
      ],
      "metadata": {
        "colab": {
          "base_uri": "https://localhost:8080/"
        },
        "id": "hvOcyLy6t9p9",
        "outputId": "d1d368dd-e706-46f4-e2d6-dc7cc71eda2c"
      },
      "execution_count": 1,
      "outputs": [
        {
          "output_type": "stream",
          "name": "stdout",
          "text": [
            "dict_keys(['data', 'target', 'frame', 'target_names', 'DESCR', 'feature_names', 'filename', 'data_module'])\n",
            "Input data shape: (569, 30)\n",
            "Target data shape: (569,) \n",
            "\n",
            "Target names: ['malignant' 'benign']\n",
            "Target distribution: [212 357] \n",
            "\n",
            "Feature names: ['mean radius' 'mean texture' 'mean perimeter' 'mean area'\n",
            " 'mean smoothness' 'mean compactness' 'mean concavity'\n",
            " 'mean concave points' 'mean symmetry' 'mean fractal dimension'\n",
            " 'radius error' 'texture error' 'perimeter error' 'area error'\n",
            " 'smoothness error' 'compactness error' 'concavity error'\n",
            " 'concave points error' 'symmetry error' 'fractal dimension error'\n",
            " 'worst radius' 'worst texture' 'worst perimeter' 'worst area'\n",
            " 'worst smoothness' 'worst compactness' 'worst concavity'\n",
            " 'worst concave points' 'worst symmetry' 'worst fractal dimension']\n",
            "Minimum, mean and maximum input data values:  0.0 61.890712339519624 4254.0\n",
            "\n",
            "Number of missing values in the data: 0\n",
            "Number of missing values in the labels: 0\n",
            "\n"
          ]
        }
      ]
    },
    {
      "cell_type": "markdown",
      "source": [
        "2. Preprocess  and clean the data"
      ],
      "metadata": {
        "id": "Bs0soqrY1ILZ"
      }
    },
    {
      "cell_type": "code",
      "source": [
        "from sklearn.model_selection import train_test_split\n",
        "from sklearn.preprocessing import StandardScaler, MinMaxScaler\n",
        "\n",
        "X, y = cancer.data, cancer.target\n",
        "\n",
        "# Preprocess the data:\n",
        "# 1. Reshape (vectorize) the input data to have the shape (number of samlples, number of features) ... Already in correct format\n",
        "# 2. Convert the data into floating-point numbers ... Already in correct format\n",
        "# 3. Resolve missing values, incorrect values... not needed (data is clean)\n",
        "# 4. One-hot encode the labels (for multi-class problems)... not needed (binary classification)\n",
        "# 5. Data augmentation,...\n",
        "\n",
        "# 5. Split the dataset - into training, validation and testing sets\n",
        "X_train, X_test, y_train, y_test = train_test_split(X, y, test_size=0.2, random_state=42)\n",
        "X_train, X_val, y_train, y_val = train_test_split(X_train, y_train, test_size=0.2, random_state=42)\n",
        "\n",
        "# 6. Normalize the features to improve training stability\n",
        "# - StandardScaler: Centers data around zero and scales to unit variance\n",
        "# - MinMaxScaler: Scales features to a given range (default [0,1], here [-1,1])\n",
        "scaler = StandardScaler()\n",
        "#scaler = MinMaxScaler(feature_range=(-1, 1)) # alternative option\n",
        "X_train = scaler.fit_transform(X_train)\n",
        "X_test = scaler.transform(X_test)\n",
        "X_val = scaler.transform(X_val)\n"
      ],
      "metadata": {
        "id": "BaA9f-4o1NAy"
      },
      "execution_count": 2,
      "outputs": []
    },
    {
      "cell_type": "markdown",
      "source": [
        "## Define and train the model in Keras\n",
        "- MLP model for binary classification:\n",
        "  - activations:\n",
        "    - 'sigmoid' activation function in the output layer\n",
        "    - 'relu' or 'tanh' in the hidden layers\n",
        " - loss function: 'binary_crossentropy'\n",
        " - metrics: 'accuracy', 'Precision', 'Recall', 'F1-score'...\n",
        " - optimizer: 'adam', 'sgd',...\n",
        " - batch size: 16, 32, 64, 128, 256\n",
        " - epochs: experimentally determined\n"
      ],
      "metadata": {
        "id": "dpehTNfb7Vz8"
      }
    },
    {
      "cell_type": "code",
      "execution_count": 3,
      "metadata": {
        "colab": {
          "base_uri": "https://localhost:8080/"
        },
        "id": "_5oLq7fSlvpP",
        "outputId": "617b57f6-9ccf-42c2-b1ab-3b1057780985"
      },
      "outputs": [
        {
          "output_type": "stream",
          "name": "stdout",
          "text": [
            "Epoch 1/50\n",
            "\u001b[1m23/23\u001b[0m \u001b[32m━━━━━━━━━━━━━━━━━━━━\u001b[0m\u001b[37m\u001b[0m \u001b[1m7s\u001b[0m 139ms/step - accuracy: 0.5219 - loss: 0.6926 - val_accuracy: 0.8242 - val_loss: 0.5547\n",
            "Epoch 2/50\n",
            "\u001b[1m23/23\u001b[0m \u001b[32m━━━━━━━━━━━━━━━━━━━━\u001b[0m\u001b[37m\u001b[0m \u001b[1m5s\u001b[0m 14ms/step - accuracy: 0.8422 - loss: 0.5162 - val_accuracy: 0.8901 - val_loss: 0.4507\n",
            "Epoch 3/50\n",
            "\u001b[1m23/23\u001b[0m \u001b[32m━━━━━━━━━━━━━━━━━━━━\u001b[0m\u001b[37m\u001b[0m \u001b[1m0s\u001b[0m 15ms/step - accuracy: 0.9259 - loss: 0.4004 - val_accuracy: 0.9451 - val_loss: 0.3829\n",
            "Epoch 4/50\n",
            "\u001b[1m23/23\u001b[0m \u001b[32m━━━━━━━━━━━━━━━━━━━━\u001b[0m\u001b[37m\u001b[0m \u001b[1m0s\u001b[0m 15ms/step - accuracy: 0.9322 - loss: 0.3387 - val_accuracy: 0.9121 - val_loss: 0.3343\n",
            "Epoch 5/50\n",
            "\u001b[1m23/23\u001b[0m \u001b[32m━━━━━━━━━━━━━━━━━━━━\u001b[0m\u001b[37m\u001b[0m \u001b[1m1s\u001b[0m 11ms/step - accuracy: 0.9470 - loss: 0.2938 - val_accuracy: 0.9121 - val_loss: 0.2989\n",
            "Epoch 6/50\n",
            "\u001b[1m23/23\u001b[0m \u001b[32m━━━━━━━━━━━━━━━━━━━━\u001b[0m\u001b[37m\u001b[0m \u001b[1m1s\u001b[0m 17ms/step - accuracy: 0.9624 - loss: 0.2647 - val_accuracy: 0.9121 - val_loss: 0.2728\n",
            "Epoch 7/50\n",
            "\u001b[1m23/23\u001b[0m \u001b[32m━━━━━━━━━━━━━━━━━━━━\u001b[0m\u001b[37m\u001b[0m \u001b[1m1s\u001b[0m 23ms/step - accuracy: 0.9505 - loss: 0.2287 - val_accuracy: 0.9121 - val_loss: 0.2534\n",
            "Epoch 8/50\n",
            "\u001b[1m23/23\u001b[0m \u001b[32m━━━━━━━━━━━━━━━━━━━━\u001b[0m\u001b[37m\u001b[0m \u001b[1m0s\u001b[0m 14ms/step - accuracy: 0.9531 - loss: 0.2023 - val_accuracy: 0.9231 - val_loss: 0.2384\n",
            "Epoch 9/50\n",
            "\u001b[1m23/23\u001b[0m \u001b[32m━━━━━━━━━━━━━━━━━━━━\u001b[0m\u001b[37m\u001b[0m \u001b[1m1s\u001b[0m 15ms/step - accuracy: 0.9652 - loss: 0.1910 - val_accuracy: 0.9231 - val_loss: 0.2275\n",
            "Epoch 10/50\n",
            "\u001b[1m23/23\u001b[0m \u001b[32m━━━━━━━━━━━━━━━━━━━━\u001b[0m\u001b[37m\u001b[0m \u001b[1m0s\u001b[0m 14ms/step - accuracy: 0.9554 - loss: 0.1691 - val_accuracy: 0.9231 - val_loss: 0.2188\n",
            "Epoch 11/50\n",
            "\u001b[1m23/23\u001b[0m \u001b[32m━━━━━━━━━━━━━━━━━━━━\u001b[0m\u001b[37m\u001b[0m \u001b[1m1s\u001b[0m 15ms/step - accuracy: 0.9486 - loss: 0.1953 - val_accuracy: 0.9231 - val_loss: 0.2123\n",
            "Epoch 12/50\n",
            "\u001b[1m23/23\u001b[0m \u001b[32m━━━━━━━━━━━━━━━━━━━━\u001b[0m\u001b[37m\u001b[0m \u001b[1m1s\u001b[0m 20ms/step - accuracy: 0.9515 - loss: 0.1653 - val_accuracy: 0.9231 - val_loss: 0.2064\n",
            "Epoch 13/50\n",
            "\u001b[1m23/23\u001b[0m \u001b[32m━━━━━━━━━━━━━━━━━━━━\u001b[0m\u001b[37m\u001b[0m \u001b[1m0s\u001b[0m 10ms/step - accuracy: 0.9730 - loss: 0.1514 - val_accuracy: 0.9231 - val_loss: 0.2017\n",
            "Epoch 14/50\n",
            "\u001b[1m23/23\u001b[0m \u001b[32m━━━━━━━━━━━━━━━━━━━━\u001b[0m\u001b[37m\u001b[0m \u001b[1m0s\u001b[0m 4ms/step - accuracy: 0.9804 - loss: 0.1192 - val_accuracy: 0.9231 - val_loss: 0.1975\n",
            "Epoch 15/50\n",
            "\u001b[1m23/23\u001b[0m \u001b[32m━━━━━━━━━━━━━━━━━━━━\u001b[0m\u001b[37m\u001b[0m \u001b[1m0s\u001b[0m 4ms/step - accuracy: 0.9767 - loss: 0.1207 - val_accuracy: 0.9231 - val_loss: 0.1944\n",
            "Epoch 16/50\n",
            "\u001b[1m23/23\u001b[0m \u001b[32m━━━━━━━━━━━━━━━━━━━━\u001b[0m\u001b[37m\u001b[0m \u001b[1m0s\u001b[0m 4ms/step - accuracy: 0.9709 - loss: 0.1181 - val_accuracy: 0.9341 - val_loss: 0.1916\n",
            "Epoch 17/50\n",
            "\u001b[1m23/23\u001b[0m \u001b[32m━━━━━━━━━━━━━━━━━━━━\u001b[0m\u001b[37m\u001b[0m \u001b[1m0s\u001b[0m 6ms/step - accuracy: 0.9641 - loss: 0.1234 - val_accuracy: 0.9341 - val_loss: 0.1892\n",
            "Epoch 18/50\n",
            "\u001b[1m23/23\u001b[0m \u001b[32m━━━━━━━━━━━━━━━━━━━━\u001b[0m\u001b[37m\u001b[0m \u001b[1m0s\u001b[0m 4ms/step - accuracy: 0.9729 - loss: 0.1189 - val_accuracy: 0.9341 - val_loss: 0.1869\n",
            "Epoch 19/50\n",
            "\u001b[1m23/23\u001b[0m \u001b[32m━━━━━━━━━━━━━━━━━━━━\u001b[0m\u001b[37m\u001b[0m \u001b[1m0s\u001b[0m 5ms/step - accuracy: 0.9817 - loss: 0.1063 - val_accuracy: 0.9341 - val_loss: 0.1848\n",
            "Epoch 20/50\n",
            "\u001b[1m23/23\u001b[0m \u001b[32m━━━━━━━━━━━━━━━━━━━━\u001b[0m\u001b[37m\u001b[0m \u001b[1m0s\u001b[0m 4ms/step - accuracy: 0.9889 - loss: 0.0987 - val_accuracy: 0.9341 - val_loss: 0.1831\n",
            "Epoch 21/50\n",
            "\u001b[1m23/23\u001b[0m \u001b[32m━━━━━━━━━━━━━━━━━━━━\u001b[0m\u001b[37m\u001b[0m \u001b[1m0s\u001b[0m 4ms/step - accuracy: 0.9752 - loss: 0.1205 - val_accuracy: 0.9341 - val_loss: 0.1814\n",
            "Epoch 22/50\n",
            "\u001b[1m23/23\u001b[0m \u001b[32m━━━━━━━━━━━━━━━━━━━━\u001b[0m\u001b[37m\u001b[0m \u001b[1m0s\u001b[0m 4ms/step - accuracy: 0.9818 - loss: 0.0994 - val_accuracy: 0.9341 - val_loss: 0.1802\n",
            "Epoch 23/50\n",
            "\u001b[1m23/23\u001b[0m \u001b[32m━━━━━━━━━━━━━━━━━━━━\u001b[0m\u001b[37m\u001b[0m \u001b[1m0s\u001b[0m 4ms/step - accuracy: 0.9849 - loss: 0.0894 - val_accuracy: 0.9341 - val_loss: 0.1790\n",
            "Epoch 24/50\n",
            "\u001b[1m23/23\u001b[0m \u001b[32m━━━━━━━━━━━━━━━━━━━━\u001b[0m\u001b[37m\u001b[0m \u001b[1m0s\u001b[0m 4ms/step - accuracy: 0.9876 - loss: 0.1027 - val_accuracy: 0.9341 - val_loss: 0.1781\n",
            "Epoch 25/50\n",
            "\u001b[1m23/23\u001b[0m \u001b[32m━━━━━━━━━━━━━━━━━━━━\u001b[0m\u001b[37m\u001b[0m \u001b[1m0s\u001b[0m 4ms/step - accuracy: 0.9853 - loss: 0.0920 - val_accuracy: 0.9341 - val_loss: 0.1770\n",
            "Epoch 26/50\n",
            "\u001b[1m23/23\u001b[0m \u001b[32m━━━━━━━━━━━━━━━━━━━━\u001b[0m\u001b[37m\u001b[0m \u001b[1m0s\u001b[0m 4ms/step - accuracy: 0.9927 - loss: 0.0756 - val_accuracy: 0.9341 - val_loss: 0.1761\n",
            "Epoch 27/50\n",
            "\u001b[1m23/23\u001b[0m \u001b[32m━━━━━━━━━━━━━━━━━━━━\u001b[0m\u001b[37m\u001b[0m \u001b[1m0s\u001b[0m 6ms/step - accuracy: 0.9881 - loss: 0.0801 - val_accuracy: 0.9341 - val_loss: 0.1751\n",
            "Epoch 28/50\n",
            "\u001b[1m23/23\u001b[0m \u001b[32m━━━━━━━━━━━━━━━━━━━━\u001b[0m\u001b[37m\u001b[0m \u001b[1m0s\u001b[0m 5ms/step - accuracy: 0.9787 - loss: 0.0877 - val_accuracy: 0.9341 - val_loss: 0.1738\n",
            "Epoch 29/50\n",
            "\u001b[1m23/23\u001b[0m \u001b[32m━━━━━━━━━━━━━━━━━━━━\u001b[0m\u001b[37m\u001b[0m \u001b[1m0s\u001b[0m 7ms/step - accuracy: 0.9901 - loss: 0.0693 - val_accuracy: 0.9341 - val_loss: 0.1727\n",
            "Epoch 30/50\n",
            "\u001b[1m23/23\u001b[0m \u001b[32m━━━━━━━━━━━━━━━━━━━━\u001b[0m\u001b[37m\u001b[0m \u001b[1m0s\u001b[0m 7ms/step - accuracy: 0.9845 - loss: 0.0920 - val_accuracy: 0.9341 - val_loss: 0.1720\n",
            "Epoch 31/50\n",
            "\u001b[1m23/23\u001b[0m \u001b[32m━━━━━━━━━━━━━━━━━━━━\u001b[0m\u001b[37m\u001b[0m \u001b[1m0s\u001b[0m 7ms/step - accuracy: 0.9876 - loss: 0.0777 - val_accuracy: 0.9341 - val_loss: 0.1710\n",
            "Epoch 32/50\n",
            "\u001b[1m23/23\u001b[0m \u001b[32m━━━━━━━━━━━━━━━━━━━━\u001b[0m\u001b[37m\u001b[0m \u001b[1m0s\u001b[0m 6ms/step - accuracy: 0.9901 - loss: 0.0696 - val_accuracy: 0.9341 - val_loss: 0.1702\n",
            "Epoch 33/50\n",
            "\u001b[1m23/23\u001b[0m \u001b[32m━━━━━━━━━━━━━━━━━━━━\u001b[0m\u001b[37m\u001b[0m \u001b[1m0s\u001b[0m 7ms/step - accuracy: 0.9900 - loss: 0.0647 - val_accuracy: 0.9341 - val_loss: 0.1694\n",
            "Epoch 34/50\n",
            "\u001b[1m23/23\u001b[0m \u001b[32m━━━━━━━━━━━━━━━━━━━━\u001b[0m\u001b[37m\u001b[0m \u001b[1m0s\u001b[0m 8ms/step - accuracy: 0.9915 - loss: 0.0593 - val_accuracy: 0.9341 - val_loss: 0.1688\n",
            "Epoch 35/50\n",
            "\u001b[1m23/23\u001b[0m \u001b[32m━━━━━━━━━━━━━━━━━━━━\u001b[0m\u001b[37m\u001b[0m \u001b[1m0s\u001b[0m 5ms/step - accuracy: 0.9923 - loss: 0.0566 - val_accuracy: 0.9341 - val_loss: 0.1680\n",
            "Epoch 36/50\n",
            "\u001b[1m23/23\u001b[0m \u001b[32m━━━━━━━━━━━━━━━━━━━━\u001b[0m\u001b[37m\u001b[0m \u001b[1m0s\u001b[0m 4ms/step - accuracy: 0.9913 - loss: 0.0553 - val_accuracy: 0.9341 - val_loss: 0.1675\n",
            "Epoch 37/50\n",
            "\u001b[1m23/23\u001b[0m \u001b[32m━━━━━━━━━━━━━━━━━━━━\u001b[0m\u001b[37m\u001b[0m \u001b[1m0s\u001b[0m 4ms/step - accuracy: 0.9859 - loss: 0.0632 - val_accuracy: 0.9341 - val_loss: 0.1667\n",
            "Epoch 38/50\n",
            "\u001b[1m23/23\u001b[0m \u001b[32m━━━━━━━━━━━━━━━━━━━━\u001b[0m\u001b[37m\u001b[0m \u001b[1m0s\u001b[0m 4ms/step - accuracy: 0.9880 - loss: 0.0610 - val_accuracy: 0.9451 - val_loss: 0.1659\n",
            "Epoch 39/50\n",
            "\u001b[1m23/23\u001b[0m \u001b[32m━━━━━━━━━━━━━━━━━━━━\u001b[0m\u001b[37m\u001b[0m \u001b[1m0s\u001b[0m 4ms/step - accuracy: 0.9953 - loss: 0.0486 - val_accuracy: 0.9451 - val_loss: 0.1653\n",
            "Epoch 40/50\n",
            "\u001b[1m23/23\u001b[0m \u001b[32m━━━━━━━━━━━━━━━━━━━━\u001b[0m\u001b[37m\u001b[0m \u001b[1m0s\u001b[0m 4ms/step - accuracy: 0.9913 - loss: 0.0464 - val_accuracy: 0.9451 - val_loss: 0.1647\n",
            "Epoch 41/50\n",
            "\u001b[1m23/23\u001b[0m \u001b[32m━━━━━━━━━━━━━━━━━━━━\u001b[0m\u001b[37m\u001b[0m \u001b[1m0s\u001b[0m 4ms/step - accuracy: 0.9787 - loss: 0.0617 - val_accuracy: 0.9451 - val_loss: 0.1641\n",
            "Epoch 42/50\n",
            "\u001b[1m23/23\u001b[0m \u001b[32m━━━━━━━━━━━━━━━━━━━━\u001b[0m\u001b[37m\u001b[0m \u001b[1m0s\u001b[0m 6ms/step - accuracy: 0.9883 - loss: 0.0478 - val_accuracy: 0.9451 - val_loss: 0.1635\n",
            "Epoch 43/50\n",
            "\u001b[1m23/23\u001b[0m \u001b[32m━━━━━━━━━━━━━━━━━━━━\u001b[0m\u001b[37m\u001b[0m \u001b[1m0s\u001b[0m 6ms/step - accuracy: 0.9880 - loss: 0.0654 - val_accuracy: 0.9451 - val_loss: 0.1630\n",
            "Epoch 44/50\n",
            "\u001b[1m23/23\u001b[0m \u001b[32m━━━━━━━━━━━━━━━━━━━━\u001b[0m\u001b[37m\u001b[0m \u001b[1m0s\u001b[0m 4ms/step - accuracy: 0.9897 - loss: 0.0549 - val_accuracy: 0.9451 - val_loss: 0.1626\n",
            "Epoch 45/50\n",
            "\u001b[1m23/23\u001b[0m \u001b[32m━━━━━━━━━━━━━━━━━━━━\u001b[0m\u001b[37m\u001b[0m \u001b[1m0s\u001b[0m 5ms/step - accuracy: 0.9882 - loss: 0.0464 - val_accuracy: 0.9451 - val_loss: 0.1621\n",
            "Epoch 46/50\n",
            "\u001b[1m23/23\u001b[0m \u001b[32m━━━━━━━━━━━━━━━━━━━━\u001b[0m\u001b[37m\u001b[0m \u001b[1m0s\u001b[0m 4ms/step - accuracy: 0.9740 - loss: 0.0647 - val_accuracy: 0.9451 - val_loss: 0.1618\n",
            "Epoch 47/50\n",
            "\u001b[1m23/23\u001b[0m \u001b[32m━━━━━━━━━━━━━━━━━━━━\u001b[0m\u001b[37m\u001b[0m \u001b[1m0s\u001b[0m 6ms/step - accuracy: 0.9763 - loss: 0.0657 - val_accuracy: 0.9451 - val_loss: 0.1615\n",
            "Epoch 48/50\n",
            "\u001b[1m23/23\u001b[0m \u001b[32m━━━━━━━━━━━━━━━━━━━━\u001b[0m\u001b[37m\u001b[0m \u001b[1m0s\u001b[0m 4ms/step - accuracy: 0.9971 - loss: 0.0368 - val_accuracy: 0.9451 - val_loss: 0.1608\n",
            "Epoch 49/50\n",
            "\u001b[1m23/23\u001b[0m \u001b[32m━━━━━━━━━━━━━━━━━━━━\u001b[0m\u001b[37m\u001b[0m \u001b[1m0s\u001b[0m 4ms/step - accuracy: 0.9920 - loss: 0.0489 - val_accuracy: 0.9451 - val_loss: 0.1603\n",
            "Epoch 50/50\n",
            "\u001b[1m23/23\u001b[0m \u001b[32m━━━━━━━━━━━━━━━━━━━━\u001b[0m\u001b[37m\u001b[0m \u001b[1m0s\u001b[0m 5ms/step - accuracy: 0.9817 - loss: 0.0525 - val_accuracy: 0.9451 - val_loss: 0.1602\n",
            "\u001b[1m4/4\u001b[0m \u001b[32m━━━━━━━━━━━━━━━━━━━━\u001b[0m\u001b[37m\u001b[0m \u001b[1m1s\u001b[0m 101ms/step - accuracy: 0.9666 - loss: 0.0840\n",
            "\u001b[1m12/12\u001b[0m \u001b[32m━━━━━━━━━━━━━━━━━━━━\u001b[0m\u001b[37m\u001b[0m \u001b[1m0s\u001b[0m 22ms/step - accuracy: 0.9863 - loss: 0.0473\n",
            "\u001b[1m3/3\u001b[0m \u001b[32m━━━━━━━━━━━━━━━━━━━━\u001b[0m\u001b[37m\u001b[0m \u001b[1m0s\u001b[0m 152ms/step - accuracy: 0.9530 - loss: 0.1241\n",
            "Train Accuracy: 0.9863 | Train Loss: 0.0497\n",
            "Validation Accuracy: 0.9451 | Validation Loss: 0.1602\n",
            "Test Accuracy: 0.9737 | Test Loss: 0.0728\n",
            "\u001b[1m4/4\u001b[0m \u001b[32m━━━━━━━━━━━━━━━━━━━━\u001b[0m\u001b[37m\u001b[0m \u001b[1m0s\u001b[0m 62ms/step\n",
            "[[1 0 0 1 1 0 0 0 0 1]]\n"
          ]
        }
      ],
      "source": [
        "import numpy as np\n",
        "import keras\n",
        "from keras import layers\n",
        "from sklearn.model_selection import train_test_split\n",
        "from sklearn.preprocessing import StandardScaler\n",
        "from sklearn.datasets import load_breast_cancer\n",
        "\n",
        "##########################################################################\n",
        "# 1. Load, observe and analyze the data:\n",
        "cancer = load_breast_cancer()\n",
        "X, y = cancer.data, cancer.target  # Features and labels\n",
        "\n",
        "##########################################################################\n",
        "# 2. Preprocess and clean the data:\n",
        "# Split the dataset into training, validation and testing sets\n",
        "X_train, X_test, y_train, y_test = train_test_split(X, y, test_size=0.2, random_state=42)\n",
        "X_train, X_val, y_train, y_val = train_test_split(X_train, y_train, test_size=0.2, random_state=42)\n",
        "\n",
        "# Standardize the features to improve training stability\n",
        "scaler = StandardScaler()\n",
        "X_train = scaler.fit_transform(X_train)\n",
        "X_test = scaler.transform(X_test)\n",
        "X_val = scaler.transform(X_val)\n",
        "\n",
        "##########################################################################\n",
        "# 3. Define the MLP model using Keras\n",
        "# 3a.  Define the model architecture (type of the model, number of layers, activation functions)\n",
        "model = keras.Sequential([\n",
        "    layers.InputLayer(shape=(X_train.shape[1],)),  # Input Layer\n",
        "    layers.Dense(30, activation='relu'),  # First hidden layer\n",
        "    layers.Dense(15, activation='relu'),  # Second hidden layer\n",
        "    layers.Dense(1, activation='sigmoid')  # Output layer for binary classification\n",
        "])\n",
        "\n",
        "#3b. Set model hyperparameters (Appropriate loss function, optimizer and its parameters, evaluation metrics)\n",
        "#model.compile(optimizer='sgd', loss='binary_crossentropy', metrics=['accuracy'])\n",
        "model.compile(optimizer=keras.optimizers.SGD(learning_rate=0.01), loss='binary_crossentropy', metrics=['accuracy'])\n",
        "##########################################################################\n",
        "# 4. Train the model\n",
        "history = model.fit(X_train, y_train, epochs=50, batch_size=16, validation_data=(X_val, y_val))\n",
        "\n",
        "##########################################################################\n",
        "# 5. Evaluate the model and make predictions\n",
        "# 5a. Evaluate the model on the train, validation and test sets\n",
        "test_loss, test_acc = model.evaluate(X_test, y_test)\n",
        "train_loss, train_acc = model.evaluate(X_train, y_train)\n",
        "val_loss, val_acc = model.evaluate(X_val, y_val)\n",
        "print(f\"Train Accuracy: {train_acc:.4f} | Train Loss: {train_loss:.4f}\")\n",
        "print(f\"Validation Accuracy: {val_acc:.4f} | Validation Loss: {val_loss:.4f}\")\n",
        "print(f\"Test Accuracy: {test_acc:.4f} | Test Loss: {test_loss:.4f}\")\n",
        "\n",
        "# 5b. Make predictions\n",
        "predictions = (model.predict(X_test) > 0.5).astype(int)\n",
        "print(predictions[:10].T)"
      ]
    },
    {
      "cell_type": "markdown",
      "source": [
        "### Keras backend\n",
        "- by default Tensorflow, but we can change it:"
      ],
      "metadata": {
        "id": "-NjNFVvomtbg"
      }
    },
    {
      "cell_type": "code",
      "source": [
        "from keras import backend\n",
        "\n",
        "print(f\"Current backend: {backend.backend()}\")"
      ],
      "metadata": {
        "colab": {
          "base_uri": "https://localhost:8080/"
        },
        "id": "kFUMfOj4m3m0",
        "outputId": "8f7f9fe7-a2b3-455f-d213-2b6687572e50"
      },
      "execution_count": 4,
      "outputs": [
        {
          "output_type": "stream",
          "name": "stdout",
          "text": [
            "Current backend: tensorflow\n"
          ]
        }
      ]
    },
    {
      "cell_type": "code",
      "source": [
        "# restart kernel before running this code!\n",
        "import os\n",
        "os.environ[\"KERAS_BACKEND\"] = \"torch\"  # \"tensorflow\" \"jax\", \"torch\"\n",
        "from keras import backend\n",
        "\n",
        "print(f\"Current backend: {backend.backend()}\")\n"
      ],
      "metadata": {
        "colab": {
          "base_uri": "https://localhost:8080/"
        },
        "id": "J45LZyOznF86",
        "outputId": "cd019f77-2baf-4879-d1cb-2dfa5486b450"
      },
      "execution_count": 5,
      "outputs": [
        {
          "output_type": "stream",
          "name": "stdout",
          "text": [
            "Current backend: tensorflow\n"
          ]
        }
      ]
    },
    {
      "cell_type": "markdown",
      "source": [],
      "metadata": {
        "id": "3djiZpRdowYo"
      }
    },
    {
      "cell_type": "markdown",
      "source": [
        "## Define and train the same model in Tensorflow"
      ],
      "metadata": {
        "id": "PfRTEagwFuD5"
      }
    },
    {
      "cell_type": "code",
      "source": [
        "##########################################################################\n",
        "# 1. Load, observe and analyze the data:\n",
        "cancer = load_breast_cancer()\n",
        "X, y = cancer.data, cancer.target  # Features and labels\n",
        "\n",
        "##########################################################################\n",
        "# 2. Preprocess and clean the data:\n",
        "# Split the dataset into training, validation and testing sets\n",
        "X_train, X_test, y_train, y_test = train_test_split(X, y, test_size=0.2, random_state=42)\n",
        "X_train, X_val, y_train, y_val = train_test_split(X_train, y_train, test_size=0.2, random_state=42)\n",
        "\n",
        "# Standardize the features to improve training stability\n",
        "scaler = StandardScaler()\n",
        "X_train = scaler.fit_transform(X_train).astype(np.float32)\n",
        "X_test = scaler.transform(X_test).astype(np.float32)\n",
        "X_val = scaler.transform(X_val).astype(np.float32)\n",
        "\n",
        "##########################################################################\n",
        "# 3. Define the MLP model using pure Tensorflow\n",
        "import tensorflow as tf\n",
        "class MLPModel(tf.Module):\n",
        "    def __init__(self): # Initialize weights and biases for each layer\n",
        "        super().__init__()\n",
        "        self.w1 = tf.Variable(tf.random.normal([X_train.shape[1], 30]), dtype=tf.float32)\n",
        "        self.b1 = tf.Variable(tf.zeros([30]), dtype=tf.float32)\n",
        "        self.w2 = tf.Variable(tf.random.normal([30, 15]), dtype=tf.float32)\n",
        "        self.b2 = tf.Variable(tf.zeros([15]), dtype=tf.float32)\n",
        "        self.w3 = tf.Variable(tf.random.normal([15, 1]), dtype=tf.float32)\n",
        "        self.b3 = tf.Variable(tf.zeros([1]), dtype=tf.float32)\n",
        "\n",
        "    def __call__(self, x): # Forward pass through the network\n",
        "        x = tf.nn.relu(tf.matmul(x, self.w1) + self.b1)\n",
        "        x = tf.nn.relu(tf.matmul(x, self.w2) + self.b2)\n",
        "        x = tf.nn.sigmoid(tf.matmul(x, self.w3) + self.b3)\n",
        "        return x\n",
        "\n",
        "# Initialize the model\n",
        "model = MLPModel()\n",
        "\n",
        "# Define the loss function and optimizer\n",
        "loss_fn = tf.keras.losses.BinaryCrossentropy()\n",
        "optimizer = tf.keras.optimizers.SGD(learning_rate=0.01)\n",
        "\n",
        "##########################################################################\n",
        "# 4. Train the model\n",
        "epochs = 50\n",
        "batch_size = 16\n",
        "train_dataset = tf.data.Dataset.from_tensor_slices((X_train, y_train)).batch(batch_size)\n",
        "val_dataset = tf.data.Dataset.from_tensor_slices((X_val, y_val)).batch(batch_size)\n",
        "\n",
        "def train_step(model, x, y):\n",
        "    with tf.GradientTape() as tape:\n",
        "        predictions = model(x)                    # forward pass\n",
        "        loss = loss_fn(y[:, None], predictions)   # compute the loss\n",
        "    # Compute gradients of the loss with respect to model parameters ... backward pass\n",
        "    gradients = tape.gradient(loss, [model.w1, model.b1, model.w2, model.b2, model.w3, model.b3])\n",
        "    # Apply the computed gradients to update model parameters using the optimizer\n",
        "    optimizer.apply_gradients(zip(gradients, [model.w1, model.b1, model.w2, model.b2, model.w3, model.b3]))\n",
        "    return loss\n",
        "\n",
        "# Train the model for the specified number of epochs\n",
        "for epoch in range(epochs):\n",
        "    for x_batch, y_batch in train_dataset:\n",
        "        train_loss = train_step(model, x_batch, y_batch)\n",
        "    print(f\"Epoch {epoch+1}, Train Loss: {train_loss.numpy():.10f}\")\n",
        "\n",
        "##########################################################################\n",
        "# 5. Evaluate the model and make predictions\n",
        "# 5a. Evaluate the model on the train, validation and test sets\n",
        "def compute_loss_and_accuracy(model, X, y):\n",
        "    predictions = model(X)\n",
        "    loss = loss_fn(y[:, None], predictions).numpy()\n",
        "    accuracy = np.mean((predictions.numpy().flatten() > 0.5).astype(int) == y)\n",
        "    return loss, accuracy\n",
        "\n",
        "train_loss, train_acc = compute_loss_and_accuracy(model, X_train, y_train)\n",
        "val_loss, val_acc = compute_loss_and_accuracy(model, X_val, y_val)\n",
        "test_loss, test_acc = compute_loss_and_accuracy(model, X_test, y_test)\n",
        "\n",
        "print(f\"Train Accuracy: {train_acc:.4f} | Train Loss: {train_loss:.4f}\")\n",
        "print(f\"Validation Accuracy: {val_acc:.4f} | Validation Loss: {val_loss:.4f}\")\n",
        "print(f\"Test Accuracy: {test_acc:.4f} | Test Loss: {test_loss:.4f}\")\n",
        "\n",
        "# 5b. Make predictions\n",
        "predictions = (model(X_test).numpy().flatten() > 0.5).astype(int)\n",
        "print(\"Sample Predictions:\", predictions[:10])"
      ],
      "metadata": {
        "colab": {
          "base_uri": "https://localhost:8080/"
        },
        "id": "cDNw1rRvF5Nv",
        "outputId": "fa71cc4b-0cdc-45f8-d4e7-b28dbdc32795"
      },
      "execution_count": 6,
      "outputs": [
        {
          "output_type": "stream",
          "name": "stdout",
          "text": [
            "Epoch 1, Train Loss: 2.3737542629\n",
            "Epoch 2, Train Loss: 1.6443748474\n",
            "Epoch 3, Train Loss: 1.4101877213\n",
            "Epoch 4, Train Loss: 1.3540862799\n",
            "Epoch 5, Train Loss: 1.3431926966\n",
            "Epoch 6, Train Loss: 1.3382281065\n",
            "Epoch 7, Train Loss: 1.3356841803\n",
            "Epoch 8, Train Loss: 1.3337393999\n",
            "Epoch 9, Train Loss: 1.3323987722\n",
            "Epoch 10, Train Loss: 1.3317096233\n",
            "Epoch 11, Train Loss: 1.3312586546\n",
            "Epoch 12, Train Loss: 1.3309545517\n",
            "Epoch 13, Train Loss: 1.3308404684\n",
            "Epoch 14, Train Loss: 1.3307992220\n",
            "Epoch 15, Train Loss: 1.3307912350\n",
            "Epoch 16, Train Loss: 1.3308336735\n",
            "Epoch 17, Train Loss: 1.3307907581\n",
            "Epoch 18, Train Loss: 1.3305640221\n",
            "Epoch 19, Train Loss: 1.3303245306\n",
            "Epoch 20, Train Loss: 1.3301476240\n",
            "Epoch 21, Train Loss: 1.3299490213\n",
            "Epoch 22, Train Loss: 1.3297969103\n",
            "Epoch 23, Train Loss: 1.3296734095\n",
            "Epoch 24, Train Loss: 1.3295692205\n",
            "Epoch 25, Train Loss: 1.3294806480\n",
            "Epoch 26, Train Loss: 1.3294019699\n",
            "Epoch 27, Train Loss: 1.3293309212\n",
            "Epoch 28, Train Loss: 1.3292657137\n",
            "Epoch 29, Train Loss: 1.3292067051\n",
            "Epoch 30, Train Loss: 1.3291547298\n",
            "Epoch 31, Train Loss: 1.3291069269\n",
            "Epoch 32, Train Loss: 1.3290652037\n",
            "Epoch 33, Train Loss: 1.3290276527\n",
            "Epoch 34, Train Loss: 1.3289934397\n",
            "Epoch 35, Train Loss: 1.3289636374\n",
            "Epoch 36, Train Loss: 1.3289371729\n",
            "Epoch 37, Train Loss: 1.3289153576\n",
            "Epoch 38, Train Loss: 1.3288966417\n",
            "Epoch 39, Train Loss: 1.3288799524\n",
            "Epoch 40, Train Loss: 1.3288668394\n",
            "Epoch 41, Train Loss: 1.3288546801\n",
            "Epoch 42, Train Loss: 1.3288447857\n",
            "Epoch 43, Train Loss: 1.3288363218\n",
            "Epoch 44, Train Loss: 1.3288272619\n",
            "Epoch 45, Train Loss: 1.3288196325\n",
            "Epoch 46, Train Loss: 1.3288122416\n",
            "Epoch 47, Train Loss: 1.3288038969\n",
            "Epoch 48, Train Loss: 1.3287968636\n",
            "Epoch 49, Train Loss: 1.3287903070\n",
            "Epoch 50, Train Loss: 1.3287835121\n",
            "Train Accuracy: 0.9918 | Train Loss: 0.1376\n",
            "Validation Accuracy: 0.9451 | Validation Loss: 0.2276\n",
            "Test Accuracy: 0.9298 | Test Loss: 0.4184\n",
            "Sample Predictions: [1 0 0 1 1 0 0 1 0 1]\n"
          ]
        }
      ]
    },
    {
      "cell_type": "markdown",
      "source": [
        "### GradientTape in Tensorflow\n",
        "- tensor in Tensorflow (tf.Tensor) is a multi-dimensional array similar to a NumPy array but optimized for GPU/TPU computation\n",
        "- A trainable tensor (tf.Variable) is an enhanced version of a tensor that allows modification and gradient tracking during training\n",
        "- tf.GradientTape() allows automatic symbolic differentiation:\n",
        "    - It builds a computational graph, recording elementary operations\n",
        "    - During the backward pass, it traverses the graph in reverse and computes exact symbolic derivatives using the chain rule."
      ],
      "metadata": {
        "id": "4xDyX27CJ2X9"
      }
    },
    {
      "cell_type": "code",
      "source": [
        "import tensorflow as tf\n",
        "\n",
        "# Define a simple function: f(x) = x^2 + 3x + 5\n",
        "def f(x):\n",
        "    return x**2 + 3*x + 5\n",
        "\n",
        "# Define input tensor\n",
        "x = tf.Variable(2.0)  # Start with x = 2.0\n",
        "#x = tf.Variable(np.array([-1, 0, 1, 2], dtype=np.float32))\n",
        "#x = tf.Variable(np.array([[2, 1], [5, 0]], dtype=np.float32))\n",
        "\n",
        "# Compute the derivative using GradientTape\n",
        "with tf.GradientTape() as tape:\n",
        "    y = f(x)  # Compute function value\n",
        "\n",
        "# Compute df/dx ... backward pass\n",
        "dy_dx = tape.gradient(y, x)\n",
        "\n",
        "# Print the result\n",
        "print(f\"Function value at x=2: f(2) = {y.numpy()}\")\n",
        "print(f\"Derivative at x=2: f'(2) = {dy_dx.numpy()}\")  # Should be 2(2) + 3 = 7"
      ],
      "metadata": {
        "colab": {
          "base_uri": "https://localhost:8080/"
        },
        "id": "iDBsXVLLJ2EN",
        "outputId": "a52df348-8b13-4549-a15b-640d87c408c1"
      },
      "execution_count": 7,
      "outputs": [
        {
          "output_type": "stream",
          "name": "stdout",
          "text": [
            "Function value at x=2: f(2) = 15.0\n",
            "Derivative at x=2: f'(2) = 7.0\n"
          ]
        }
      ]
    },
    {
      "cell_type": "markdown",
      "source": [
        "## Define and train the model in PyTorch:"
      ],
      "metadata": {
        "id": "pJ-6coFqPwWB"
      }
    },
    {
      "cell_type": "code",
      "source": [
        "import torch\n",
        "import torch.nn as nn\n",
        "import torch.optim as optim\n",
        "from sklearn.model_selection import train_test_split\n",
        "from sklearn.preprocessing import StandardScaler\n",
        "from sklearn.datasets import load_breast_cancer\n",
        "import numpy as np\n",
        "\n",
        "##########################################################################\n",
        "# 1. Load, observe and analyze the data\n",
        "cancer = load_breast_cancer()\n",
        "X, y = cancer.data, cancer.target\n",
        "\n",
        "##########################################################################\n",
        "# 2. Preprocess and clean the data:\n",
        "# Split dataset into train, validation, and test sets\n",
        "X_train, X_test, y_train, y_test = train_test_split(X, y, test_size=0.2, random_state=42)\n",
        "X_train, X_val, y_train, y_val = train_test_split(X_train, y_train, test_size=0.2, random_state=42)\n",
        "\n",
        "# Standardize the features\n",
        "scaler = StandardScaler()\n",
        "X_train = scaler.fit_transform(X_train).astype(np.float32)\n",
        "X_test = scaler.transform(X_test).astype(np.float32)\n",
        "X_val = scaler.transform(X_val).astype(np.float32)\n",
        "\n",
        "# Convert to PyTorch tensors\n",
        "X_train, X_test, X_val = map(torch.tensor, (X_train, X_test, X_val))\n",
        "y_train, y_test, y_val = map(lambda y: torch.tensor(y, dtype=torch.float32).view(-1, 1), (y_train, y_test, y_val))\n",
        "\n",
        "##########################################################################\n",
        "# 3. Define the MLP model using pure PyTorch\n",
        "class MLP(nn.Module):\n",
        "    def __init__(self, input_dim): # Initialize weights and biases for each layer\n",
        "        super(MLP, self).__init__()\n",
        "        self.fc1 = nn.Linear(input_dim, 30)\n",
        "        self.fc2 = nn.Linear(30, 15)\n",
        "        self.fc3 = nn.Linear(15, 1)\n",
        "        self.relu = nn.ReLU()\n",
        "        self.sigmoid = nn.Sigmoid()\n",
        "\n",
        "    def forward(self, x): # Forward pass through the netowrk\n",
        "        x = self.relu(self.fc1(x))\n",
        "        x = self.relu(self.fc2(x))\n",
        "        x = self.sigmoid(self.fc3(x))\n",
        "        return x\n",
        "\n",
        "# Initialize model\n",
        "model = MLP(input_dim=X_train.shape[1])\n",
        "\n",
        "# Define loss function and optimizer\n",
        "loss_fn = nn.BCELoss()  # Binary Cross Entropy Loss\n",
        "optimizer = optim.SGD(model.parameters(), lr=0.01)\n",
        "\n",
        "##########################################################################\n",
        "# 4. Train the model\n",
        "epochs = 50\n",
        "batch_size = 16\n",
        "train_dataset = torch.utils.data.TensorDataset(X_train, y_train)\n",
        "train_loader = torch.utils.data.DataLoader(train_dataset, batch_size=batch_size, shuffle=True)\n",
        "\n",
        "val_dataset = torch.utils.data.TensorDataset(X_val, y_val)\n",
        "val_loader = torch.utils.data.DataLoader(val_dataset, batch_size=batch_size)\n",
        "\n",
        "def train(model, optimizer, loss_fn, train_loader, val_loader, epochs):\n",
        "    for epoch in range(epochs):\n",
        "        model.train()\n",
        "        train_loss = 0\n",
        "        for X_batch, y_batch in train_loader:\n",
        "            optimizer.zero_grad()\n",
        "            y_pred = model(X_batch)          # forward pass\n",
        "            loss = loss_fn(y_pred, y_batch)  # compute the loss\n",
        "            loss.backward()                  # backward pass: Compute gradients of the loss with respect to model parameters\n",
        "            optimizer.step()                 # Apply the computed gradients to update model parameters using the optimizer\n",
        "            train_loss += loss.item()\n",
        "\n",
        "        # Validation step\n",
        "        model.eval()\n",
        "        val_loss = 0\n",
        "        with torch.no_grad():\n",
        "            for X_batch, y_batch in val_loader:\n",
        "                y_pred = model(X_batch)\n",
        "                val_loss += loss_fn(y_pred, y_batch).item()\n",
        "\n",
        "        print(f\"Epoch {epoch+1}, Train Loss: {train_loss/len(train_loader):.4f}, Validation Loss: {val_loss/len(val_loader):.4f}\")\n",
        "\n",
        "# Train the model for the specified number of epochs\n",
        "train(model, optimizer, loss_fn, train_loader, val_loader, epochs)\n",
        "\n",
        "##########################################################################\n",
        "# 5. Evaluate the model and make predictions\n",
        "# 5a. Evaluate the model on the train, validation and test sets\n",
        "def evaluate(model, X, y):\n",
        "    model.eval()\n",
        "    with torch.no_grad():\n",
        "        y_pred = model(X)\n",
        "        loss = loss_fn(y_pred, y).item()\n",
        "        accuracy = ((y_pred > 0.5).float() == y).float().mean().item()\n",
        "    return loss, accuracy\n",
        "\n",
        "train_loss, train_acc = evaluate(model, X_train, y_train)\n",
        "val_loss, val_acc = evaluate(model, X_val, y_val)\n",
        "test_loss, test_acc = evaluate(model, X_test, y_test)\n",
        "\n",
        "print(f\"Train Accuracy: {train_acc:.4f} | Train Loss: {train_loss:.4f}\")\n",
        "print(f\"Validation Accuracy: {val_acc:.4f} | Validation Loss: {val_loss:.4f}\")\n",
        "print(f\"Test Accuracy: {test_acc:.4f} | Test Loss: {test_loss:.4f}\")\n",
        "\n",
        "# 5b. Make predictions\n",
        "y_pred = (model(X_test) > 0.5).float()\n",
        "print(\"Sample Predictions:\", y_pred[:10].T.numpy())\n"
      ],
      "metadata": {
        "colab": {
          "base_uri": "https://localhost:8080/"
        },
        "id": "sr8_x5K7HDfW",
        "outputId": "576dbd5f-cb2b-4306-ec79-75ef749735ca"
      },
      "execution_count": 8,
      "outputs": [
        {
          "output_type": "stream",
          "name": "stdout",
          "text": [
            "Epoch 1, Train Loss: 0.6986, Validation Loss: 0.6926\n",
            "Epoch 2, Train Loss: 0.6852, Validation Loss: 0.6809\n",
            "Epoch 3, Train Loss: 0.6724, Validation Loss: 0.6693\n",
            "Epoch 4, Train Loss: 0.6589, Validation Loss: 0.6571\n",
            "Epoch 5, Train Loss: 0.6448, Validation Loss: 0.6440\n",
            "Epoch 6, Train Loss: 0.6295, Validation Loss: 0.6295\n",
            "Epoch 7, Train Loss: 0.6126, Validation Loss: 0.6132\n",
            "Epoch 8, Train Loss: 0.5933, Validation Loss: 0.5947\n",
            "Epoch 9, Train Loss: 0.5711, Validation Loss: 0.5736\n",
            "Epoch 10, Train Loss: 0.5465, Validation Loss: 0.5501\n",
            "Epoch 11, Train Loss: 0.5190, Validation Loss: 0.5242\n",
            "Epoch 12, Train Loss: 0.4909, Validation Loss: 0.4967\n",
            "Epoch 13, Train Loss: 0.4600, Validation Loss: 0.4680\n",
            "Epoch 14, Train Loss: 0.4281, Validation Loss: 0.4385\n",
            "Epoch 15, Train Loss: 0.3955, Validation Loss: 0.4092\n",
            "Epoch 16, Train Loss: 0.3660, Validation Loss: 0.3809\n",
            "Epoch 17, Train Loss: 0.3350, Validation Loss: 0.3539\n",
            "Epoch 18, Train Loss: 0.3076, Validation Loss: 0.3289\n",
            "Epoch 19, Train Loss: 0.2821, Validation Loss: 0.3060\n",
            "Epoch 20, Train Loss: 0.2604, Validation Loss: 0.2855\n",
            "Epoch 21, Train Loss: 0.2373, Validation Loss: 0.2672\n",
            "Epoch 22, Train Loss: 0.2196, Validation Loss: 0.2513\n",
            "Epoch 23, Train Loss: 0.2030, Validation Loss: 0.2376\n",
            "Epoch 24, Train Loss: 0.1887, Validation Loss: 0.2257\n",
            "Epoch 25, Train Loss: 0.1759, Validation Loss: 0.2155\n",
            "Epoch 26, Train Loss: 0.1654, Validation Loss: 0.2067\n",
            "Epoch 27, Train Loss: 0.1566, Validation Loss: 0.1988\n",
            "Epoch 28, Train Loss: 0.1491, Validation Loss: 0.1919\n",
            "Epoch 29, Train Loss: 0.1402, Validation Loss: 0.1861\n",
            "Epoch 30, Train Loss: 0.1337, Validation Loss: 0.1810\n",
            "Epoch 31, Train Loss: 0.1267, Validation Loss: 0.1764\n",
            "Epoch 32, Train Loss: 0.1214, Validation Loss: 0.1724\n",
            "Epoch 33, Train Loss: 0.1165, Validation Loss: 0.1689\n",
            "Epoch 34, Train Loss: 0.1119, Validation Loss: 0.1658\n",
            "Epoch 35, Train Loss: 0.1099, Validation Loss: 0.1629\n",
            "Epoch 36, Train Loss: 0.1042, Validation Loss: 0.1604\n",
            "Epoch 37, Train Loss: 0.1010, Validation Loss: 0.1582\n",
            "Epoch 38, Train Loss: 0.0972, Validation Loss: 0.1562\n",
            "Epoch 39, Train Loss: 0.0945, Validation Loss: 0.1544\n",
            "Epoch 40, Train Loss: 0.0933, Validation Loss: 0.1526\n",
            "Epoch 41, Train Loss: 0.0889, Validation Loss: 0.1511\n",
            "Epoch 42, Train Loss: 0.0864, Validation Loss: 0.1497\n",
            "Epoch 43, Train Loss: 0.0846, Validation Loss: 0.1485\n",
            "Epoch 44, Train Loss: 0.0819, Validation Loss: 0.1474\n",
            "Epoch 45, Train Loss: 0.0829, Validation Loss: 0.1462\n",
            "Epoch 46, Train Loss: 0.0800, Validation Loss: 0.1451\n",
            "Epoch 47, Train Loss: 0.0764, Validation Loss: 0.1443\n",
            "Epoch 48, Train Loss: 0.0743, Validation Loss: 0.1435\n",
            "Epoch 49, Train Loss: 0.0734, Validation Loss: 0.1428\n",
            "Epoch 50, Train Loss: 0.0717, Validation Loss: 0.1421\n",
            "Train Accuracy: 0.9835 | Train Loss: 0.0703\n",
            "Validation Accuracy: 0.9560 | Validation Loss: 0.1463\n",
            "Test Accuracy: 0.9737 | Test Loss: 0.0733\n",
            "Sample Predictions: [[1. 0. 0. 1. 1. 0. 0. 0. 0. 1.]]\n"
          ]
        }
      ]
    },
    {
      "cell_type": "markdown",
      "source": [
        "### **Autograd in PyTorch**\n",
        "- A **tensor (`torch.Tensor`)** in PyTorch is a multi-dimensional array similar to a NumPy array but optimized for GPU/TPU computation.\n",
        "- A **trainable tensor (`torch.nn.Parameter`)** is an enhanced version of a tensor that allows modifications and gradient tracking during training.\n",
        "- **`torch.autograd` enables automatic differentiation**:\n",
        "    - It dynamically builds a computational graph, recording operations on tensors with `requires_grad=True`.\n",
        "    - During the **backward pass**, it traverses the graph in reverse and computes **exact symbolic derivatives** using the **chain rule**.\n",
        "- **Differences from TensorFlow**:\n",
        "    - PyTorch builds the computational graph dynamically (eager execution), while TensorFlow supports both eager and static graph modes.\n",
        "    - In PyTorch, gradients accumulate by default and must be manually reset using `optimizer.zero_grad()`, whereas in TensorFlow, `tf.GradientTape()` clears gradients automatically unless `persistent=True` is set.\n"
      ],
      "metadata": {
        "id": "UdyhCopAlKAg"
      }
    },
    {
      "cell_type": "code",
      "source": [
        "import torch\n",
        "\n",
        "# Define a simple function: f(x) = x^2 + 3x + 5\n",
        "def f(x):\n",
        "    return x**2 + 3*x + 5\n",
        "\n",
        "# Define input tensor – uncomment one of the following:\n",
        "x = torch.tensor(2.0, requires_grad=True)  # Scalar\n",
        "#x = torch.tensor([-1, 0, 1, 2], dtype=torch.float32, requires_grad=True)  # Vector\n",
        "#x = torch.tensor([[2, 1], [5, 0]], dtype=torch.float32, requires_grad=True)  # Matrix\n",
        "\n",
        "# Compute function value\n",
        "y = f(x)\n",
        "\n",
        "# Compute df/dx ... backward pass\n",
        "# For scalar output: use backward() directly\n",
        "# For non-scalar output: provide gradient of same shape\n",
        "if y.numel() == 1:\n",
        "    y.backward()\n",
        "else:\n",
        "    y.backward(torch.ones_like(y))\n",
        "\n",
        "# Print results\n",
        "print(f\"Function value f(x):\\n{y.detach().numpy()}\")\n",
        "print(f\"Derivative f'(x):\\n{x.grad.numpy()}\")"
      ],
      "metadata": {
        "colab": {
          "base_uri": "https://localhost:8080/"
        },
        "id": "fBYSJjsLlJp6",
        "outputId": "610560b4-32c1-492e-a09f-5f88c65b0799"
      },
      "execution_count": 9,
      "outputs": [
        {
          "output_type": "stream",
          "name": "stdout",
          "text": [
            "Function value f(x):\n",
            "15.0\n",
            "Derivative f'(x):\n",
            "7.0\n"
          ]
        }
      ]
    },
    {
      "cell_type": "markdown",
      "source": [
        "## Define and train the model in PyTorch Lightning"
      ],
      "metadata": {
        "id": "WbSvZMRFiYVS"
      }
    },
    {
      "cell_type": "code",
      "source": [
        "!pip install pytorch-lightning"
      ],
      "metadata": {
        "colab": {
          "base_uri": "https://localhost:8080/"
        },
        "id": "QoAyswG8izgH",
        "outputId": "be78f31e-1e8f-4a82-9031-6cebb0b6c26e"
      },
      "execution_count": 10,
      "outputs": [
        {
          "output_type": "stream",
          "name": "stdout",
          "text": [
            "Collecting pytorch-lightning\n",
            "  Downloading pytorch_lightning-2.5.5-py3-none-any.whl.metadata (20 kB)\n",
            "Requirement already satisfied: torch>=2.1.0 in /usr/local/lib/python3.12/dist-packages (from pytorch-lightning) (2.8.0+cu126)\n",
            "Requirement already satisfied: tqdm>=4.57.0 in /usr/local/lib/python3.12/dist-packages (from pytorch-lightning) (4.67.1)\n",
            "Requirement already satisfied: PyYAML>5.4 in /usr/local/lib/python3.12/dist-packages (from pytorch-lightning) (6.0.2)\n",
            "Requirement already satisfied: fsspec>=2022.5.0 in /usr/local/lib/python3.12/dist-packages (from fsspec[http]>=2022.5.0->pytorch-lightning) (2025.3.0)\n",
            "Collecting torchmetrics>0.7.0 (from pytorch-lightning)\n",
            "  Downloading torchmetrics-1.8.2-py3-none-any.whl.metadata (22 kB)\n",
            "Requirement already satisfied: packaging>=20.0 in /usr/local/lib/python3.12/dist-packages (from pytorch-lightning) (25.0)\n",
            "Requirement already satisfied: typing-extensions>4.5.0 in /usr/local/lib/python3.12/dist-packages (from pytorch-lightning) (4.15.0)\n",
            "Collecting lightning-utilities>=0.10.0 (from pytorch-lightning)\n",
            "  Downloading lightning_utilities-0.15.2-py3-none-any.whl.metadata (5.7 kB)\n",
            "Requirement already satisfied: aiohttp!=4.0.0a0,!=4.0.0a1 in /usr/local/lib/python3.12/dist-packages (from fsspec[http]>=2022.5.0->pytorch-lightning) (3.12.15)\n",
            "Requirement already satisfied: setuptools in /usr/local/lib/python3.12/dist-packages (from lightning-utilities>=0.10.0->pytorch-lightning) (75.2.0)\n",
            "Requirement already satisfied: filelock in /usr/local/lib/python3.12/dist-packages (from torch>=2.1.0->pytorch-lightning) (3.19.1)\n",
            "Requirement already satisfied: sympy>=1.13.3 in /usr/local/lib/python3.12/dist-packages (from torch>=2.1.0->pytorch-lightning) (1.13.3)\n",
            "Requirement already satisfied: networkx in /usr/local/lib/python3.12/dist-packages (from torch>=2.1.0->pytorch-lightning) (3.5)\n",
            "Requirement already satisfied: jinja2 in /usr/local/lib/python3.12/dist-packages (from torch>=2.1.0->pytorch-lightning) (3.1.6)\n",
            "Requirement already satisfied: nvidia-cuda-nvrtc-cu12==12.6.77 in /usr/local/lib/python3.12/dist-packages (from torch>=2.1.0->pytorch-lightning) (12.6.77)\n",
            "Requirement already satisfied: nvidia-cuda-runtime-cu12==12.6.77 in /usr/local/lib/python3.12/dist-packages (from torch>=2.1.0->pytorch-lightning) (12.6.77)\n",
            "Requirement already satisfied: nvidia-cuda-cupti-cu12==12.6.80 in /usr/local/lib/python3.12/dist-packages (from torch>=2.1.0->pytorch-lightning) (12.6.80)\n",
            "Requirement already satisfied: nvidia-cudnn-cu12==9.10.2.21 in /usr/local/lib/python3.12/dist-packages (from torch>=2.1.0->pytorch-lightning) (9.10.2.21)\n",
            "Requirement already satisfied: nvidia-cublas-cu12==12.6.4.1 in /usr/local/lib/python3.12/dist-packages (from torch>=2.1.0->pytorch-lightning) (12.6.4.1)\n",
            "Requirement already satisfied: nvidia-cufft-cu12==11.3.0.4 in /usr/local/lib/python3.12/dist-packages (from torch>=2.1.0->pytorch-lightning) (11.3.0.4)\n",
            "Requirement already satisfied: nvidia-curand-cu12==10.3.7.77 in /usr/local/lib/python3.12/dist-packages (from torch>=2.1.0->pytorch-lightning) (10.3.7.77)\n",
            "Requirement already satisfied: nvidia-cusolver-cu12==11.7.1.2 in /usr/local/lib/python3.12/dist-packages (from torch>=2.1.0->pytorch-lightning) (11.7.1.2)\n",
            "Requirement already satisfied: nvidia-cusparse-cu12==12.5.4.2 in /usr/local/lib/python3.12/dist-packages (from torch>=2.1.0->pytorch-lightning) (12.5.4.2)\n",
            "Requirement already satisfied: nvidia-cusparselt-cu12==0.7.1 in /usr/local/lib/python3.12/dist-packages (from torch>=2.1.0->pytorch-lightning) (0.7.1)\n",
            "Requirement already satisfied: nvidia-nccl-cu12==2.27.3 in /usr/local/lib/python3.12/dist-packages (from torch>=2.1.0->pytorch-lightning) (2.27.3)\n",
            "Requirement already satisfied: nvidia-nvtx-cu12==12.6.77 in /usr/local/lib/python3.12/dist-packages (from torch>=2.1.0->pytorch-lightning) (12.6.77)\n",
            "Requirement already satisfied: nvidia-nvjitlink-cu12==12.6.85 in /usr/local/lib/python3.12/dist-packages (from torch>=2.1.0->pytorch-lightning) (12.6.85)\n",
            "Requirement already satisfied: nvidia-cufile-cu12==1.11.1.6 in /usr/local/lib/python3.12/dist-packages (from torch>=2.1.0->pytorch-lightning) (1.11.1.6)\n",
            "Requirement already satisfied: triton==3.4.0 in /usr/local/lib/python3.12/dist-packages (from torch>=2.1.0->pytorch-lightning) (3.4.0)\n",
            "Requirement already satisfied: numpy>1.20.0 in /usr/local/lib/python3.12/dist-packages (from torchmetrics>0.7.0->pytorch-lightning) (2.0.2)\n",
            "Requirement already satisfied: aiohappyeyeballs>=2.5.0 in /usr/local/lib/python3.12/dist-packages (from aiohttp!=4.0.0a0,!=4.0.0a1->fsspec[http]>=2022.5.0->pytorch-lightning) (2.6.1)\n",
            "Requirement already satisfied: aiosignal>=1.4.0 in /usr/local/lib/python3.12/dist-packages (from aiohttp!=4.0.0a0,!=4.0.0a1->fsspec[http]>=2022.5.0->pytorch-lightning) (1.4.0)\n",
            "Requirement already satisfied: attrs>=17.3.0 in /usr/local/lib/python3.12/dist-packages (from aiohttp!=4.0.0a0,!=4.0.0a1->fsspec[http]>=2022.5.0->pytorch-lightning) (25.3.0)\n",
            "Requirement already satisfied: frozenlist>=1.1.1 in /usr/local/lib/python3.12/dist-packages (from aiohttp!=4.0.0a0,!=4.0.0a1->fsspec[http]>=2022.5.0->pytorch-lightning) (1.7.0)\n",
            "Requirement already satisfied: multidict<7.0,>=4.5 in /usr/local/lib/python3.12/dist-packages (from aiohttp!=4.0.0a0,!=4.0.0a1->fsspec[http]>=2022.5.0->pytorch-lightning) (6.6.4)\n",
            "Requirement already satisfied: propcache>=0.2.0 in /usr/local/lib/python3.12/dist-packages (from aiohttp!=4.0.0a0,!=4.0.0a1->fsspec[http]>=2022.5.0->pytorch-lightning) (0.3.2)\n",
            "Requirement already satisfied: yarl<2.0,>=1.17.0 in /usr/local/lib/python3.12/dist-packages (from aiohttp!=4.0.0a0,!=4.0.0a1->fsspec[http]>=2022.5.0->pytorch-lightning) (1.20.1)\n",
            "Requirement already satisfied: mpmath<1.4,>=1.1.0 in /usr/local/lib/python3.12/dist-packages (from sympy>=1.13.3->torch>=2.1.0->pytorch-lightning) (1.3.0)\n",
            "Requirement already satisfied: MarkupSafe>=2.0 in /usr/local/lib/python3.12/dist-packages (from jinja2->torch>=2.1.0->pytorch-lightning) (3.0.2)\n",
            "Requirement already satisfied: idna>=2.0 in /usr/local/lib/python3.12/dist-packages (from yarl<2.0,>=1.17.0->aiohttp!=4.0.0a0,!=4.0.0a1->fsspec[http]>=2022.5.0->pytorch-lightning) (3.10)\n",
            "Downloading pytorch_lightning-2.5.5-py3-none-any.whl (832 kB)\n",
            "\u001b[2K   \u001b[90m━━━━━━━━━━━━━━━━━━━━━━━━━━━━━━━━━━━━━━━━\u001b[0m \u001b[32m832.4/832.4 kB\u001b[0m \u001b[31m23.3 MB/s\u001b[0m eta \u001b[36m0:00:00\u001b[0m\n",
            "\u001b[?25hDownloading lightning_utilities-0.15.2-py3-none-any.whl (29 kB)\n",
            "Downloading torchmetrics-1.8.2-py3-none-any.whl (983 kB)\n",
            "\u001b[2K   \u001b[90m━━━━━━━━━━━━━━━━━━━━━━━━━━━━━━━━━━━━━━━━\u001b[0m \u001b[32m983.2/983.2 kB\u001b[0m \u001b[31m61.2 MB/s\u001b[0m eta \u001b[36m0:00:00\u001b[0m\n",
            "\u001b[?25hInstalling collected packages: lightning-utilities, torchmetrics, pytorch-lightning\n",
            "Successfully installed lightning-utilities-0.15.2 pytorch-lightning-2.5.5 torchmetrics-1.8.2\n"
          ]
        }
      ]
    },
    {
      "cell_type": "code",
      "source": [
        "import torch\n",
        "import torch.nn as nn\n",
        "import torch.optim as optim\n",
        "import pytorch_lightning as pl\n",
        "from torch.utils.data import DataLoader, TensorDataset\n",
        "from sklearn.model_selection import train_test_split\n",
        "from sklearn.preprocessing import StandardScaler\n",
        "from sklearn.datasets import load_breast_cancer\n",
        "import numpy as np\n",
        "\n",
        "##########################################################################\n",
        "# 1. Load, observe and analyze the data\n",
        "cancer = load_breast_cancer()\n",
        "X, y = cancer.data, cancer.target\n",
        "\n",
        "\n",
        "##########################################################################\n",
        "# 2. Preprocess and clean the data:\n",
        "# Split the dataset into training, validation and testing sets\n",
        "X_train, X_test, y_train, y_test = train_test_split(X, y, test_size=0.2, random_state=42)\n",
        "X_train, X_val, y_train, y_val = train_test_split(X_train, y_train, test_size=0.2, random_state=42)\n",
        "\n",
        "# Standardize the features\n",
        "scaler = StandardScaler()\n",
        "X_train = scaler.fit_transform(X_train).astype(np.float32)\n",
        "X_test = scaler.transform(X_test).astype(np.float32)\n",
        "X_val = scaler.transform(X_val).astype(np.float32)\n",
        "\n",
        "# Convert to PyTorch tensors\n",
        "X_train, X_test, X_val = map(torch.tensor, (X_train, X_test, X_val))\n",
        "y_train, y_test, y_val = map(lambda y: torch.tensor(y, dtype=torch.float32).view(-1, 1), (y_train, y_test, y_val))\n",
        "\n",
        "# Create DataLoaders\n",
        "batch_size = 16\n",
        "train_loader = DataLoader(TensorDataset(X_train, y_train), batch_size=batch_size, shuffle=True)\n",
        "val_loader = DataLoader(TensorDataset(X_val, y_val), batch_size=batch_size)\n",
        "test_loader = DataLoader(TensorDataset(X_test, y_test), batch_size=batch_size)\n",
        "\n",
        "##########################################################################\n",
        "# 3. Define the MLP model using PyTorch Lightning\n",
        "class MLP(pl.LightningModule):\n",
        "    def __init__(self, input_dim):\n",
        "        super(MLP, self).__init__()\n",
        "        self.fc1 = nn.Linear(input_dim, 30)\n",
        "        self.fc2 = nn.Linear(30, 15)\n",
        "        self.fc3 = nn.Linear(15, 1)\n",
        "        self.relu = nn.ReLU()\n",
        "        self.sigmoid = nn.Sigmoid()\n",
        "        self.loss_fn = nn.BCELoss()\n",
        "\n",
        "    def forward(self, x):\n",
        "        x = self.relu(self.fc1(x))\n",
        "        x = self.relu(self.fc2(x))\n",
        "        x = self.sigmoid(self.fc3(x))\n",
        "        return x\n",
        "\n",
        "    def training_step(self, batch, batch_idx):\n",
        "        x, y = batch\n",
        "        y_pred = self(x)                                 # forward pass\n",
        "        loss = self.loss_fn(y_pred, y)                   # compute the loss\n",
        "        self.log(\"train_loss\", loss, prog_bar=True)\n",
        "        return loss\n",
        "\n",
        "    def validation_step(self, batch, batch_idx):\n",
        "        x, y = batch\n",
        "        y_pred = self(x)\n",
        "        loss = self.loss_fn(y_pred, y)\n",
        "        self.log(\"val_loss\", loss, prog_bar=True)\n",
        "\n",
        "    def configure_optimizers(self):\n",
        "        return optim.SGD(self.parameters(), lr=0.01)\n",
        "\n",
        "# Initialize model\n",
        "model = MLP(input_dim=X_train.shape[1])\n",
        "\n",
        "# 4. Train the model using PyTorch Lightning Trainer\n",
        "epochs = 50\n",
        "trainer = pl.Trainer(max_epochs=epochs, log_every_n_steps=10)\n",
        "trainer.fit(model, train_loader, val_loader)\n",
        "\n",
        "# 5. Evaluate the model\n",
        "def evaluate(model, dataloader):\n",
        "    model.eval()\n",
        "    total_loss = 0\n",
        "    correct = 0\n",
        "    with torch.no_grad():\n",
        "        for x, y in dataloader:\n",
        "            y_pred = model(x)\n",
        "            loss = model.loss_fn(y_pred, y).item()\n",
        "            correct += ((y_pred > 0.5).float() == y).sum().item()\n",
        "            total_loss += loss\n",
        "    accuracy = correct / len(dataloader.dataset)\n",
        "    return total_loss / len(dataloader), accuracy\n",
        "\n",
        "train_loss, train_acc = evaluate(model, train_loader)\n",
        "val_loss, val_acc = evaluate(model, val_loader)\n",
        "test_loss, test_acc = evaluate(model, test_loader)\n",
        "\n",
        "print(f\"Train Accuracy: {train_acc:.4f} | Train Loss: {train_loss:.4f}\")\n",
        "print(f\"Validation Accuracy: {val_acc:.4f} | Validation Loss: {val_loss:.4f}\")\n",
        "print(f\"Test Accuracy: {test_acc:.4f} | Test Loss: {test_loss:.4f}\")\n",
        "\n",
        "# 5b. Make predictions\n",
        "y_pred = (model(X_test) > 0.5).float()\n",
        "print(\"Sample Predictions:\", y_pred[:10].T.numpy())"
      ],
      "metadata": {
        "colab": {
          "base_uri": "https://localhost:8080/",
          "height": 521,
          "referenced_widgets": [
            "af6b5ff1556843d180eb2167c65733a9",
            "c434472fbfb1422bbd64649896bd8f84",
            "4d4cacc3a2d1434086ec0a9db4728cf8",
            "69b123a3659740feb4d2174c7a604903",
            "3fac0e0e045248518a878cf04eb31cae",
            "897119e9d08e4b65bbbde3be24a503d1",
            "a5f5124198c44799a4c35fd2b6866a1b",
            "13cf720ff1f543f88a9ddc0377275926",
            "ecc4d08c6aef4f7cb4a3498e3fdb2a37",
            "6a0223651dd3480eb8f1f2337526a8ff",
            "77449ce6e7c74a65ab7926eed8ceed1e",
            "b1a554b7f9e445b7a4f6b0f2778de80d",
            "a865f1531b0e47b49111f1d6330c344d",
            "71b9874a5bc64bc1a04fc08f422f2da7",
            "d2a4f96867a44eab87fc5239540c05ad",
            "46bd5feeefaa49c68c2e450bbf3ff728",
            "2879e8bd4c0c4ddc8cdca49652a6f868",
            "56442887f8094b4ab5cda70b65d4268b",
            "4fd3d68432774356bcc13d4febd6843a",
            "6bdd218b463048ad834abbebea0b1b5a",
            "b3611934f42b4cff8efeed4ec19e5a37",
            "8a7eec9d21754d34b0ed4b0373a3be14",
            "a388e4955c344317917237c3f693f2cb",
            "1bb27309e07a4581967c668969cce882",
            "8553f3dd903941e0b19cf54b23297423",
            "13e93acfe0954c05a5f5eaf232746104",
            "465eeabd036c4419b1c31bb9d4f5ea8a",
            "32b561808da543eab9b3433e2469675d",
            "5f06dc4c833c4655861d56a43ef7e40d",
            "b97b1912134743ae991233b99e2b3b3a",
            "5b09afb741cc442588cecbd735dd3857",
            "99f14c0e898c4d37aa61e51176990aaf",
            "5e4970678d714e1ab49696c3f66be570",
            "a4046c2cd0d54bbe8a34c2eec0b3339c",
            "f332d09e948948d9acc0b25d4826c9cf",
            "9d5fcaadba584e6695d66cbd104c718d",
            "48a66f9b35564a2db8e054c3099869b9",
            "d0718e805fd542e49dd3b83c6dcdc71a",
            "ebf1c780c7694d05acf4f3398c8dee6d",
            "54b065b2c3b94a3a84c67032b269d9f1",
            "54718cd81ba74ddab728cbbe5aa6ae58",
            "484aca16f14d446781199146561c3199",
            "3045179b8e484023aeb237e70960a4ca",
            "b9e2befcaa494f889f8c95bb075abb8a",
            "bb5568a2df2847fb9140d9c164ae6af6",
            "8475df857b8f4ee6a95eca5f8c0ac603",
            "a855510849ff4a62acf6c6f746797567",
            "dd26307d08604caaaa0760d3a2137e6e",
            "96a7afc669da4d4399ed2ea4867095c3",
            "d846c7df11784fc88a29b973f4b7d3a0",
            "ed54452015424ceda31600cb1430642c",
            "30568e438ee14efa92bb75f1057d5e5b",
            "6139146f39fc4ca3a6443ac09fb1c79a",
            "f2e216b610d3459b8f48fc33f94412c6",
            "886e8bec20c3497d8ff9a3ee9c49fd6f",
            "868664617ba44033a6837d5975538ea6",
            "574fae69001043208bcea2cdce9369c5",
            "ba2cf330dbad436f9e0dd9e1739a1769",
            "3c66d499d62841b0bb2c20b9181c0f14",
            "2b61abd700454487a93cd7a077821bd6",
            "3898907aad9e4a6f9e4ff7f4fe5f21de",
            "d68d49cb73b34c36b5141054de0c2239",
            "666da8e86f0642c4be867ff13e796b07",
            "0e8639bfe9b04db5b158dd238690ab64",
            "331e2155d424458586ecc59424ea757a",
            "b87660b0046f41049b047a9560d7f44d",
            "e515b8d567254cea8318002ed780d89d",
            "c9ec76190ded4a95af9c6266c480bfd2",
            "e08cb0fb6015419a866b4694d36e34c1",
            "04ce9311b36147818e93803309e3d50d",
            "d67f00e4124f4933960d0764a2fbb5c6",
            "e38309fdf0744894930751d2b06c3a54",
            "94b70f5bbfb741b7a6d15aa32a37ab4d",
            "bdd8acf324f04df4bcdbeb4cde7ff942",
            "a8165cf1eb244d70976f3f7a7f34dada",
            "474ba8b049104ed28fce832593316fdb",
            "cae8c00506e24b899206c524d9f6dc69",
            "94f0551ccca44322a83ed3543c5b6d27",
            "9a19c3cce6e14a6f8eac2711802ead5e",
            "338cdfd74ab4444a8f630da415267f6f",
            "59a59853abee4974aeaf0aeb355fe442",
            "4e470329516d4fae9daecebf69371a19",
            "eb340e0a73d740b0abb0ae553d1848d1",
            "a5817e8d76874bff9e62779e94d18d9c",
            "944566e4ca1a4f279cd1cce88677cb59",
            "e826c9c6afb6409f9af77728715ac260",
            "e10286f0bbd54e1cac07993e41af7204",
            "2e04acb95e9b4c668beb8218b54c9195",
            "bdf975fbf59449afaa380ba19dee3def",
            "8d8648bbf9b34fffa0f8e7a217e9e943",
            "6a94510613654eec95f1538f55442455",
            "1e52f97789624fd292cd1b8c03df58eb",
            "b5d9f6a6ac2c43ae834551983e004114",
            "de614237fa764a44b37bd45f43e9e459",
            "0917f59c7f2641668c088a389d91ace9",
            "6ccafb8aad7546fd9fbde77fa36656f7",
            "112c6679c4bc4479977709a1c3bf43c3",
            "c60abe57178e4b44be3f0aa348429e62",
            "c33186fc10d64b8383d0e6f71c955cf9",
            "09e0ff58ac574a05b05db278074017aa",
            "2f5385b99f6d4f92b444dda566945c2d",
            "43cac6e4ab0644898a6a85d1ac16aa0c",
            "193ceca4a5f94fd7a0687e047becd23a",
            "8aa078bbac7447bfb45edad4cf689a62",
            "defd299a536d4940b6740d0b5d8d198d",
            "4a56388ed5a540af9609d686991da34c",
            "f33406c848a3415d964a350ac1c6f54b",
            "9ac23c43d50549fc8fa14735969864c9",
            "92bae02bb5444233bf7dc27746593b40",
            "78dfea0c8b7d4072ae1a378583c0e9bf",
            "f73e6fab7e654aa9896193e663709883",
            "85a2b42baecf4e8f8bfafd0892a9029e",
            "fd3c7d1b3c044314829fd50c5739eae2",
            "d26559bd878b42cdaa2069c076196a7f",
            "48304dd736a241bd999a37f591626557",
            "bcfccf70659a46648a1d60d3fb10e0cd",
            "4967f685da4a40d2b8d4f34c3f932cb7",
            "337c4bceee474c1692f4903e56143caa",
            "38969f3e744342dcaeca6840ea5ed6bc",
            "65e21d7251a146a2a055fa2c45ac9498",
            "e50a3bfd6e4a4c7ea27c6c15aee1e748",
            "bdfd367fa83d4e8cb618848979e963a6",
            "da5b94c4be8f49809f337779a5070426",
            "07dec3dd95d648988cbdceb8eb9b1710",
            "07bf1888760a48ba9ff1c3b4d69bb076",
            "fb09fad6fe54464bb8c2c815804090fd",
            "e984694daa0f4286a5d58c705503f477",
            "f7accf5b339e4391a7c91ca52e7997f2",
            "28b0f9d8e67745e1a4efc90f793cac76",
            "46732dc5cc9c4076b98f98f756704e0a",
            "70e148c3a2ca45ce9c5fe7a1a2a08b8a",
            "13f89baf62a4426faf6074e32a23e62c",
            "3ec7b60530044e21b4ab5d4d13653551",
            "7cc6cb0f57b24db4bd69552f8268128f",
            "4bb52ca7a4064415a04acba6d89fef43",
            "d1416f7854e44567a749d6da58ea33d2",
            "c987075781164918b7b3eadd4b6de740",
            "8b46c9bfbad1447d8394572226b3f2ba",
            "99332793622a477a9046d997d5aaf806",
            "a1900822bb504236b8ed250467b47183",
            "5172966231af4aca8b8c4c4f0c2f3cca",
            "8206dc9795b84c7c8fc7066a1b6f0734",
            "4de2bce9e7e646f8b4c29fd768256a52",
            "2809a4d38ac5472a8bf9873fd6f3ca40",
            "0b76ed2b8de04057b66ad64a35484edc",
            "4ed79062922a48bcbe19a64e414b08de",
            "c61102deee504f7681bb58a600d089ca",
            "dffa75b26173449ebc74578bf562e5b8",
            "de93b15badb04d92857311883106b81e",
            "3ff5e14cf7dc4fc98d3a0f3e607ede16",
            "9edc4531f7a3495ca9d3e0169c45214b",
            "0a4a514639ab453a96b9ffd40cf578b1",
            "da01b65ec7cc4704ab430e8aade530e7",
            "93fad174a7d84623a603439142c24ac7",
            "bbdc952b85924403b221454c13fd90da",
            "ab0080c444c04f8a9e41678588dd494b",
            "296dcdce631d4ae49e55c81b935aa0a7",
            "012a9ca73657429caba2193218c2acdf",
            "d993e4ecfb0942de898ba55a8c2c148a",
            "53a1563f5bfa4f6581ed457d25d2d4a0",
            "9463f67e8501495fb2b2235514878b54",
            "4f9e40f05aed4452a9c4625f2bc2798a",
            "067ac11cfbf04466bc95bc335365757b",
            "0cdd92bb02b442d4ab8ed99bc46650be",
            "c21c17bbe95543529ec32d06f6be78a6",
            "9ee791a376b94bf387c0a5730b84a8d0",
            "481d1178c24e4b97b38c3600999785cc",
            "433295639d5f4ac68661946c02de49ac",
            "484c3f1049794c95acef3850f2d0348c",
            "dfd3b311aba748419c709528ba79706c",
            "da1cac1aaf89408491013da9e93c56a1",
            "ef3b6add10fa4a1a905d959389c8a19d",
            "c908fddce7ae4486845f8b4f75528484",
            "28a4964695f841d49d6de4a5cdb2f8c3",
            "0fd37cb2b8124943b8529d76704fb9aa",
            "4d8961371e11442f9b71ff752c5fe94c",
            "33bb146d30284467866c952a63eab3da",
            "8bbd356ea5704f3bb1a0283c3e6db934",
            "e1ac84ccfd2f472ba365afd8a24ffb04",
            "b5b55f2d029d4b089b7a57122f189c2c",
            "d1b310f7531c412fb84615ea5a59e2c0",
            "f4c16736a0de481c94f0b5315f4bf040",
            "0b65d3f8d7b049babfe4f36d152ad867",
            "d3de6d523a0040f783e6f0ae8a1db983",
            "cec35af0d27044b18f260444fbf1b306",
            "2c10d0f5c49a4061a1af0e9671b750f7",
            "6a21618dc4a247b7a1ec5002f85b9ead",
            "535bf65807884066a9cb6047a36193e6",
            "61963955305845ffb06ae227e78ca4cf",
            "91f66290f37e47ab9d653bfd77b7681e",
            "786c83c6cafc4bef8ce0d05158585dea",
            "c1a4752f0d4f4bdeb7f0d0f4a69d230f",
            "fe0b21571af24e128976f3fb8d4fe7ab",
            "eee6dde0ac6e45e381b002c682cb284d",
            "e441bc06b6dd44d68c8d5995799e5d04",
            "05d22c9974ee47c6af5d64e2ec76908e",
            "aac5ffbb3f954f918eda940cc2949f44",
            "8a22a1328f774a3d896e965fd0f1ab4d",
            "4f2ddfd33a7a40e48efea588650aeaa1",
            "80d8f3ed321c4e1a8d6da46637713b1a",
            "2313850059834b4f823dc36a5d9fabba",
            "c4be16e7c9d746b2a6a56863280ad1c0",
            "3549f2e5b0c445b99047ff3a19bdc166",
            "1ff9d64e0c474ca38004910ac18d1af8",
            "7c87288cbf23440b9a7870fe408901d9",
            "ec6a3bffd6a74465aa0bc50bbde56442",
            "be9673d0086549cdbf5bb31e479d0c0f",
            "9b0a8c2cb28548a7a6810e35ea212751",
            "0369550fd18a4d969c291b4d79ec9ba6",
            "fdaf45a6f92f406f9c6136fba54bb16e",
            "267e886682d845ceb1a0186a3024e014",
            "8fe3e4f127d74381ac476af44452e83b",
            "3f3e46e5853747959e276a1c34efb4b8",
            "9a54887a813d4f6d8cb4c9e53cb0070c",
            "0fa0048149dc403b8ceedaad356e78da",
            "cfcb7687f240440d9806d66626d917fb",
            "a4a4600a1c3a4b659019818900cd6526",
            "a8423b1f2fd54ca692427e84b616af6c",
            "9fdea25d88df48b78bb3fb1bfd492bac",
            "90ee2eb361cc4b2aa6a772eac87ce7aa",
            "56dfc27a29194cff99bb7972ac229d2e",
            "b58e90c9a8d149caa6c33d917cc9fc13",
            "b80ca626fcbf4b28b89c387a58d41130",
            "cf8c7fa1baab4684bd75f33ca09a0f03",
            "a4ea24ca9c7e43ef8899a4bc2f9464f4",
            "f4f00ae02ca8403da82515051b1875e6",
            "85d3641098214c9fb77bb7a3be405f2d",
            "f34df6d4ffd3400d87156d4ca2c773a5",
            "07f1ee4e41a844ff871de735b64dc24d",
            "fe3d1a1b21a14ab5ad6c39d88685ccf4",
            "0a1a185459d64ab78c4a6a39869278b2",
            "95a5f52039c04cd49ecb1459b78836d2",
            "7b31bbd0399b4959813133a30e2ab5d2",
            "fe9febd1dabd45598e71f1cc25f66c86",
            "515a70ceaea64cc88ddf87952ff8d144",
            "26ed3bd17a5e4875ae28ea91fa274e5a",
            "c746dad36eef400ca003c2990f46f573",
            "f3eecd45dc9d4319b21de05b6fe8d7dd",
            "969cb48757d04703bd4400602ce114de",
            "b71364fd7b274af8b37fdf28114cc1b4",
            "110e1e05c12d46c1a01029d768a0325f",
            "c101e20d8fcd4a70966ecc0a66b869f5",
            "40120d2bf1ed4053976c09b0afa938b8",
            "514676e6064d4dca90a4e8dad0670c4f",
            "9d24f17a5ba6429e80ad551dcfe7fae8",
            "344d6beccd224ea3a2181d4f59955f44",
            "4fd7e118c4d64f2ea4270f1e179d735a",
            "defc5dc9080c4b99b215578ea0add535",
            "78590d8cf1274088a292e4fff575e28d",
            "e03d2cf0a8a34e2ba8e71dda21fff7b0",
            "6bdea466f36a455e83b48e2d62a02bec",
            "337528cc69e54b58948cae18493a36ee",
            "cb1f17892db847b49bf3f285635766eb",
            "86d13148852143f9b2247dbcca7786cd",
            "8aad18283bea4a828476c909c2dce178",
            "36bfe061dc9544ac933f389c657fb41f",
            "9b1b02d2bb2641c8bd83fc31494e3e8e",
            "c6689183132c432cb008b7535dc9e636",
            "014a16c3e19b43e3ad7ab9cec8e4b149",
            "3cbd5b117d364b34a76adc7f1586ae1d",
            "211f4ea10474418b92643c4f757797e1",
            "ec5f8beb8d26464c80f866747ec5f231",
            "d29bd21692d940648f7e3442a62f6538",
            "3ca91f8c6f8e4d22986c38e14b8b7d62",
            "6312e666d23b48d68c7e15f732e2973a",
            "d24833fcccf54465b8e7ff613467c3bc",
            "0908291432c440d59d7f7c6ff4a3929b",
            "5e18ee660280424c91cdbe39680994c0",
            "58614a4570304551ad6fb7108d2a4deb",
            "c0555a028b1144229f500f51a6ad42b0",
            "6398e6addb674f358132fbe0e37b0e63",
            "d94a7b10673b49649cc2e873e78237e6",
            "20e86518b8d447df87eaa71bd4bcae1e",
            "ef16fac28e4c4cf4b67ab1788d40fcf6",
            "4ca5bff9692042cf9e99f2e66c2a4f0c",
            "2fc67d2e1f47402a8af0f3dd66538245",
            "1492da18585f4884a6afb4789ab94a3f",
            "7d16108b723e4ac89806f67fe21e3774",
            "ee0ad8d558904bc4b86fed36b2be242e",
            "d783281a1d9b463a9659a6bf6b28d2e2",
            "8f27a671e8e2425387f43758dd7c1265",
            "702f35df848d4bd79c7c8d678e215512",
            "a505a317188b42128b1bdf8266c13488",
            "d89cf1f640db4bcea0ddf9b0162123a6",
            "1ae1f151221b4260842df46d1575db11",
            "95bc68f424cd44fb8b6635d438221f28",
            "a02c315945684ca7aae32a0f22839bd4",
            "1f7ee56a134747ef9a96960544810129",
            "6156c483cfa84ac09ba03fa447fd727b",
            "9b9a2441183946038838b766ab0bfdb7",
            "bf63d31ba7e64b018eaf526aa660cda7",
            "c12243551b7f4ab4903412cb8d6c8df4",
            "fc981c93e5724ee3ba8ad135619fdd17",
            "51dc9173a28b4f17a24883c2fcf1997d",
            "5351b13800834a93a8241dade29adc12",
            "314949b435de4228b7f513bfd924f34c",
            "58841bcc14dd4761aa360b79510f1abf",
            "567d8769f90f406e9a03d72dd73b19fa",
            "18535a2cf06e4d47b04dc04b2677c48a",
            "7314f2f2c5d34762b476019dde7869a4",
            "22acd4b99bdb4007ab78c5a899920300",
            "630d8821af03490689c5ad744aa4a2a0",
            "2e593185c0914b67a6231c08e4ac1466",
            "b633e9e137f44afb8633d8638dbd6453",
            "8aa85997c0e84a2387a644c64f265e97",
            "8cf1ba4115ce499f8c0bf55c7206934e",
            "9709a17b08f1454191c2f2e0260f551b",
            "8ec72af03e084b5bb6050bdefc614fae",
            "4fa56b7bf98a4e9887b55eb33bec5afe",
            "8b0daa055c7c48cc9da942f41019cb3f",
            "018a2b8987f5466c859a497fc352b85e",
            "e687108c431f4746903d7a996ef0a8c8",
            "ca3b9203ff864187a90ca8580551863c",
            "533fbcc227174b4db382e5a14660d713",
            "c72ac772e0b34afca0a6183ee340f623",
            "fdda05f68461440bb404aa5c42e4bbd4",
            "1a4a172eaa8d4fefb1ec1a14a4b88af4",
            "be9ff5ec90994f5195875c4f6c9c197f",
            "4fd72604b81d4978ba4e3e38fad5b020",
            "2c916ed49c7a4cda82483a1186020ba5",
            "732d00b6916c4f7789881b5aa19465a1",
            "6439fec4730c46babeb9609fe81fd718",
            "af8806f99b9e4563bf1902c14835e996",
            "ad6011fa7e5f4791aa8a391f76d381dc",
            "24b56fa42fc541c7ad50faed23dd02f7",
            "e2e219ad99e144b2811b2bd0bc4c6771",
            "793b731442a744f5a13a2b1cfe6ced1b",
            "0f67fb5111ca4a1b9cb989a8ae8e22a0",
            "92e23aea114c4befa738b92f8168c4ec",
            "12e30f4e1cb64b6a83e1412c3c171c10",
            "34847dfbb46c46908c4dea5c8e64982c",
            "51e94c1f998441d7bc1322a29315a89c",
            "992fa2c461544f8884f73b29c4f4cc16",
            "26a62668c52e4da0bed4ab2c173fb331",
            "a74b1e9b044843bd97669d9918b13727",
            "81f3bcd1e34a42da94f81433fe74cccc",
            "1e65281fe0b04fb0ab0a17d811932672",
            "f75b5d21b37d4092afea52d0cc196001",
            "febe2bf714794ade892d5c3d6181d811",
            "f7843e40f1e14fcfb905d56d77cc127d",
            "69fcbebe4f1846108b09516c340e49f6",
            "7cb71021f252486890bca17b58280ea2",
            "5abeaaaa70f94cca9ffba0245b3d75a3",
            "d8e0c30028d44fbb984ca5e61b4b33f2",
            "eaa40584996d4bd3b2b193eed0748db5",
            "51c995261a3346aea99508a4b30ad0bc",
            "6726829843934fb68adda2c053754872",
            "cd91551debb54c91b92121338d2bc520",
            "f4344c73f6ad43298d29c16c8c846a68",
            "05d7beb4bb21421399fa1ffcd9d040b9",
            "03412761d1324c13bc83965730653c7a",
            "b8f30e609e7d4a15b1c27779026b05fd",
            "fcca68ea573d4daaac7a06f659d8a639",
            "e96b6a27ef07417eb854b1e6c87e25bb",
            "5894d1c1ed054e89bbe01972ec9e6b55",
            "a656590e10f24b6ca15470b1ab8ac32b",
            "66bcac1de3c1497fbac6f4b847223f8c",
            "84f335e6480c4e9aa91c51cba1d443a7",
            "c6ddf853a7db4e79a188171ae57427b8",
            "caf1030caf03404a93c860d013cd891d",
            "831e70684e6a464a9b6c506242d6c1c1",
            "8b43560ee7f34440b3a5659b7a9cef41",
            "3a0ca256b3764aa29a661a275717ae67",
            "bd94a3cf4c3d432d990ef1fa8ddaaadc",
            "c75394a530184c1b8e125a9a6a950012",
            "0956576d8f024c0ba26da48eabb4d6d3",
            "beab8e8710d4425fadad5cb8628602ae",
            "62e39823ce754a069ecd7aff97e8ea61",
            "be82324527104f12899f41884d100ea7",
            "6f565d7a6d46437e9ec1243e0f5b1716",
            "56107d18d823476eb0c53cda77987015",
            "77d344cf32074ba0bc38dc0240690c05",
            "843aa259d10b4661a55efb86bcf17ddd",
            "3d148eeaeae140eca70348c184acd02a",
            "baa05b45f30f4747a630f4e18f00c3a6",
            "ad49679d869140738b4468ab381d4719",
            "9f6eb1b2b0e6469fbb200584b42063d2",
            "99c00bbdddd6416399001eee44d57087",
            "967f752ed65e4525a4d554f1be45a84d",
            "1f29d2089c2d452a848e45391d39d676",
            "1ade7ad8418540dfadae2cac7790635d",
            "e7d0af2928044126bfd2f9da45379401",
            "422c5107873c4e95b3bea656ac65ebb5",
            "84d3ba515bf8418ba6ae08bb5b7c0a9b",
            "70814b4b250843ec8a55e1f76828082a",
            "ee3194f32e3c4a33acc7f269e2e5123d",
            "5558f0a533654ddfbae44f6755c1eb85",
            "7582615476ee4f55956fe7cab7e00204",
            "4693cd91bd5143118b341319b009370e",
            "84c47f7821ed474dae8173c9c5699b6a",
            "d1ece17cfecf4b25ae4b40d23b5ac2ba",
            "af497fa88da3471980e930e2386e34ff",
            "bfea89b2d9684a2eaf24e9dd210bc612",
            "1fe99dfeae544b44a23dfb39c2b4be0f",
            "aae323bab3bc499d993b0490500e1360",
            "2b2d13a85050414881db5e345c4f4f86",
            "e7e79e8fcc534ed8acdf6aece1fe4d9a",
            "7afc7e1cc2664981b927256f86f14984",
            "d2abd7eceabc4daab1b5ac00afd0427f",
            "f771e4795d9d406ca95069ff91187246",
            "fc27fabfcaba421da99601c05946ff2c",
            "872bfbcde17e4d42bf0b1b6e3bcc6c81",
            "f3ddffd16e1a47759965e88c483331aa",
            "dce6bee3642347a3aa4cb953b17b10f5",
            "8a9722a46c5f451897fa2d2018ad6b98",
            "8306cdd4f1b24276b2c7e6df786d8773",
            "1243f369ad0147a694096f246f95a289",
            "66e0321aa61844b68b812ad8eff019c1",
            "3f419ff30a074f39940cbe5b765cfca7",
            "14542d42b2f9449aa654e875a7485b54",
            "c475bc851ae3436894057f51321d0c7e",
            "1b4ac9b7f5ee44018a6393be7101de78",
            "bda797698745444e967106c4d427da5b",
            "64f7b687adcc4738aae30f5b524a0286",
            "de58f8250ce74a6488524fd22026cc18",
            "81a836c17d914c0e905a0f8373ff6c7b",
            "b9e59c061a3343f8a7e87485a1a92ec1",
            "771e7d308bcf4688adcd6564272f7d5c",
            "91f079c720524b3d9c85bd3f3ef32eb7",
            "678f5e9d53584c97a7facc3fa2c363ad",
            "b0e0329d006a4647921f59c2ef156e07",
            "32bba38b7d974305aa294e939fbabb85",
            "88153644b7374bf5ad92a2e61597cdbe",
            "6c51d90ae0fa4fd99aead23ae1174df5",
            "00076cf52cdd45e68def6faf3d728b22",
            "b7fbbaf4efbd49dcbd55762a66d05fb0",
            "763d005ed6ac49089af6d3b8e62981d4",
            "4654589b02384da5bedd4fa2e0bba075",
            "530f7162cf4343b79fe446c0c2254861",
            "70a2c2329fe2421bbff768d7581f9dc8",
            "7583b748e12a43fe9e4767bcec98589e",
            "5ecee2eda57a40e9aac2b23651fd5714",
            "6998250df33c44dabfd405e756c2b4f8",
            "958b42a37b534de99cbbb9d53ad9948b",
            "3ed4eb3c25784258878ecd8a60f6754e",
            "df548592f0c941049cf9b7d63ad28e01",
            "3fe21ea1ee814fa8b615dfba7e403915",
            "3f4e693a542c4cda999fbae8a072d260",
            "bc576df786e0472a9f05f4451a37007c",
            "5ffea6bb13ad46bd8d098a07f6c530eb",
            "237b311fce8a442d8d7d4627f35b56d8",
            "7beed3e2da6246ecbe8d6c4067bc649a",
            "f07f49a8c5dc46a0a4283513032c649c",
            "8aff66c93b94442b94980f4ed12b5641",
            "09d747a32a2a41bca95b85a93e7c30d9",
            "24e7d7f58b034ad0947b7662dcf8a6d2",
            "cda80615b8c34f8abb06a40c6c237454",
            "0f3accd2d21e4f329fc3dda5d5827b4a",
            "edf091d49b9a4345a57c96c087feac3f",
            "510593903636459aa7426f5bfc53551d",
            "463cd0bb1db143f38d7f45eebd3feacd",
            "e4604b4cff304d5e9d9795592e401471",
            "2af2913c90cf442ab7afaa8055ad9a5b",
            "cfcda689394c41a29ccd8ddfdf7ebd8d",
            "f34502d7638545e8bcbbd33fe06c5340",
            "71b05c6a5dc34104bb3f4cf48fc24ae3",
            "d0de0a36be1a4c36bbc1f32f0e02f1f0",
            "19d7c43727d34d2cbad8d44bd310f631",
            "59f72a0fc5164342a8050062eb0681c9",
            "6e5cdfb137f2407e9e615cde017ae99c",
            "4b968bdf890b40de971f74add28f3678",
            "e060f71e3a8b4c6d9eddddbddedfd2a1",
            "67266c3887b841d58ac227e61f9b1be4",
            "a2421286dadf4ca496ddd25fe87d7ddd",
            "ecea812e2a8e471d818a85109bda24ed",
            "4a86ca824e164eb0af8602db1afb26c9",
            "db4f617249a94a96ae195c60881e68fb",
            "b62982eff2794ce3888d634ef2560b88",
            "9fda3e8eed9949739ce08b4b6c78c77b",
            "18f301d0e4d54fbb9a9e7878fec193b5",
            "aca789ffb0234927b6db37452e961e8d",
            "7d7260ca839f4f8892bbd4373a7de5db",
            "4f6c9e81e8d049269286e7d4e85547d4",
            "1a28f9a7beac48cea01bcc9625508655",
            "d28dc76e7d4040acba1c71856b39db54",
            "35096eea7c434b89935782fae83193dc",
            "90fdee132e3345b992b20c80aa4117de",
            "3fe2a588aaf14972ab235486ae02565b",
            "ab429d7f15bf4a2f9ed65e11055635e0",
            "18504fb4391842a18a53bcfdb8f63df6",
            "433dd4c2a5bb46e39a3b3400bf8c4c53",
            "f737eb051e184dda944e1d000401c8f7",
            "7fc06767651d4d32a512a99cf9cb2ff8",
            "9d29493238c148f6af079427870deef7",
            "5107c4ac5d6e4c10bd00236aa7d03536",
            "8aa04de276ef45968bc76af566c30e88",
            "f48bb16ec2474c26b33cb5e3f02de1af",
            "83646cb5ec1d4065b5f4a9dd8bf21524",
            "5b23b97693734661aee7399b28e989aa",
            "88f96f7720794551af11c024761aea87",
            "1fce40dcbf444ec8bffd7a05009c25cd",
            "0b4722e5ba4c498ca36bd46e05f62a25",
            "c7431b40a60c45b29befd9265fdb7e3b",
            "c0ef549377b5426ca5bb060843fc7ad1",
            "84bba375cf7a41f19a8112611d42d752",
            "070574375cc341a8b387d083f3543ee4",
            "7332b15e268d438487923fe2bfe863a4",
            "34e209ba0fa049dfa8a9640569bff158",
            "d16818a21e0845cfa3ff5e08a4564178",
            "b4ae22318e704570b6aa876186373b5f",
            "0ce608b803914071911ec204fac5bd1f",
            "8ecc553675d74031baf111674395d896",
            "2ac298570cba445e9c6d7a7b7160c050",
            "1e5f20d4d1a9465d9c09bcf956eb0967",
            "1d8aa7eea81d41dbad5cd0866564936b",
            "72f458f2465249aabd8e05f1fab35b9a",
            "8569af36eee542baadedf6ca9df77ac3",
            "3e5c59e1f95244fab35c7fa338c426f7",
            "d1c569823ba3434e8ee39e274d5d1053",
            "7adead25257b414b94a8cb556401c8ce",
            "e3dfa3b5fc8a46b8a6323121f722da8a",
            "96bbf4b83d154e78a8c0d4e180f0cc57",
            "055ebc1fe63f47d2b149fd126cf66ac4",
            "f0dc80c14c484fc692c3e8a72a1373e0",
            "43fd07043b974aa88ec15103548de691",
            "da0e34c365724d62a8c5c010521d8326",
            "8a459f8b411948feb53dc992eebe77b4",
            "e25bd0639b0c47c39998325c8a15a57b",
            "4c14aa02bc3b48b9ba8494b3f22a917f",
            "36d4a42345914af0beb8035314dd1edc",
            "521cee59de9341a690c40a74051f01a4",
            "cb5a807330a247a784b6601a348fc602",
            "4a41ae61ca294059a6785bde2f40e305",
            "9d0368c4c11b42f193688001a44b334c",
            "4d4a92c007f640799c0c9cb64e01a2d8",
            "835593da48604444aed83b9b8790c271",
            "803e09d0dace445b9d51691b54a00722",
            "8211f868e2224985b30c6efa39a5b25a",
            "9502bb01e2cf431e8f5b01fa9d3bde14",
            "2f49a26b2f7344159072cdddba3c202e",
            "f1b68245dac340d0ac7f274caf67f1d3",
            "8f5d215006fb481f8fc156e65394e2b9",
            "e04dccbd3dd347498cbee096e09c577b",
            "99c1b8ffb56c46f79fb27f2ac6c2cbe5",
            "cbc3b50663fc448bbdec8010b26f576b",
            "109fcab6554e4888a0f9de0ac517c444",
            "67d98e37dbb542cd8abef9c08d7f311a",
            "b9780dbbaf774d3ea61e8ce575ef7f87",
            "3331db50709f4011bb8583fb9496af36",
            "3e876d8c913a4ead8e97e612815103b0",
            "7c545b8f9c5441288faf4012a1b2e9b9",
            "39316b852c294ed09d61b4ad4cf2dca6",
            "48cf0b8760ba4ca8b413623b2ca3b487",
            "4f187c35cfdd4dd2a2aaa8512a6785e7",
            "539c62b414db4f66b4dffad8971a8ae4",
            "dc0b211b7f074d06aebbb0eceac99a45",
            "da3b97f866e14fa3aa261c89153303d9",
            "2a4bb6c3b9ea4825941b0e59ae525654",
            "3673e1f277484260beb7c55742180405",
            "52318689ffa54178ab3cde6a162ff63a",
            "0fb47eacc9e34ea0b71a9b58b49cd1b6",
            "c2e0378e4ced49dcb38feb6be52868aa",
            "99c8ba39c37148529da241bd5eea53cb",
            "9f16e46167034a9eb5d9e4724006ebca",
            "c67fec7635004b88b9ea5276fdedc067",
            "31323c79a1974c0e8dfcbcc36b2660ea",
            "d9cd4c5f0f724410820cc761853f8add",
            "12048f5d542148b29f503b0a31db9b98",
            "86035114406a425a9fb1ddd1255f12b8",
            "e80629a2433b479199c10275d27a08ae",
            "9131f7e87e8c435fbfca97772198462a",
            "7afafc3e94e14c46a4bd9019ae644ce1",
            "ccece1f0f8d949208e920e19e4df4bdb",
            "dc2dbbb0e16b4afa96c4a2fa5b6252e1",
            "57706918185544a1b60d81816587dd93",
            "6de555b6f4964b5caed533db0c9eab2f",
            "1b67c1e3fdf74a0fbb8508a55a437c1a",
            "aade72ef5da7470d9a496561aad459bd",
            "07d26c8408334318a0d383a9e32b7572",
            "5332befc67ca4cdaa0f220857d343421",
            "b24cca3469304d588ec85c48b3d207b5",
            "9df9446fc7374ab5846b0557b7ef629b"
          ]
        },
        "id": "NYQmNS9CicSR",
        "outputId": "a940d19e-7baf-4f2e-9e36-760fc1190722"
      },
      "execution_count": 11,
      "outputs": [
        {
          "output_type": "stream",
          "name": "stderr",
          "text": [
            "INFO:pytorch_lightning.utilities.rank_zero:💡 Tip: For seamless cloud uploads and versioning, try installing [litmodels](https://pypi.org/project/litmodels/) to enable LitModelCheckpoint, which syncs automatically with the Lightning model registry.\n",
            "INFO:pytorch_lightning.utilities.rank_zero:GPU available: True (cuda), used: True\n",
            "INFO:pytorch_lightning.utilities.rank_zero:TPU available: False, using: 0 TPU cores\n",
            "INFO:pytorch_lightning.utilities.rank_zero:HPU available: False, using: 0 HPUs\n",
            "INFO:pytorch_lightning.accelerators.cuda:LOCAL_RANK: 0 - CUDA_VISIBLE_DEVICES: [0]\n",
            "INFO:pytorch_lightning.callbacks.model_summary:\n",
            "  | Name    | Type    | Params | Mode \n",
            "--------------------------------------------\n",
            "0 | fc1     | Linear  | 930    | train\n",
            "1 | fc2     | Linear  | 465    | train\n",
            "2 | fc3     | Linear  | 16     | train\n",
            "3 | relu    | ReLU    | 0      | train\n",
            "4 | sigmoid | Sigmoid | 0      | train\n",
            "5 | loss_fn | BCELoss | 0      | train\n",
            "--------------------------------------------\n",
            "1.4 K     Trainable params\n",
            "0         Non-trainable params\n",
            "1.4 K     Total params\n",
            "0.006     Total estimated model params size (MB)\n",
            "6         Modules in train mode\n",
            "0         Modules in eval mode\n"
          ]
        },
        {
          "output_type": "display_data",
          "data": {
            "text/plain": [
              "Sanity Checking: |          | 0/? [00:00<?, ?it/s]"
            ],
            "application/vnd.jupyter.widget-view+json": {
              "version_major": 2,
              "version_minor": 0,
              "model_id": "af6b5ff1556843d180eb2167c65733a9"
            }
          },
          "metadata": {}
        },
        {
          "output_type": "display_data",
          "data": {
            "text/plain": [
              "Training: |          | 0/? [00:00<?, ?it/s]"
            ],
            "application/vnd.jupyter.widget-view+json": {
              "version_major": 2,
              "version_minor": 0,
              "model_id": "b1a554b7f9e445b7a4f6b0f2778de80d"
            }
          },
          "metadata": {}
        },
        {
          "output_type": "display_data",
          "data": {
            "text/plain": [
              "Validation: |          | 0/? [00:00<?, ?it/s]"
            ],
            "application/vnd.jupyter.widget-view+json": {
              "version_major": 2,
              "version_minor": 0,
              "model_id": "a388e4955c344317917237c3f693f2cb"
            }
          },
          "metadata": {}
        },
        {
          "output_type": "display_data",
          "data": {
            "text/plain": [
              "Validation: |          | 0/? [00:00<?, ?it/s]"
            ],
            "application/vnd.jupyter.widget-view+json": {
              "version_major": 2,
              "version_minor": 0,
              "model_id": "a4046c2cd0d54bbe8a34c2eec0b3339c"
            }
          },
          "metadata": {}
        },
        {
          "output_type": "display_data",
          "data": {
            "text/plain": [
              "Validation: |          | 0/? [00:00<?, ?it/s]"
            ],
            "application/vnd.jupyter.widget-view+json": {
              "version_major": 2,
              "version_minor": 0,
              "model_id": "bb5568a2df2847fb9140d9c164ae6af6"
            }
          },
          "metadata": {}
        },
        {
          "output_type": "display_data",
          "data": {
            "text/plain": [
              "Validation: |          | 0/? [00:00<?, ?it/s]"
            ],
            "application/vnd.jupyter.widget-view+json": {
              "version_major": 2,
              "version_minor": 0,
              "model_id": "868664617ba44033a6837d5975538ea6"
            }
          },
          "metadata": {}
        },
        {
          "output_type": "display_data",
          "data": {
            "text/plain": [
              "Validation: |          | 0/? [00:00<?, ?it/s]"
            ],
            "application/vnd.jupyter.widget-view+json": {
              "version_major": 2,
              "version_minor": 0,
              "model_id": "e515b8d567254cea8318002ed780d89d"
            }
          },
          "metadata": {}
        },
        {
          "output_type": "display_data",
          "data": {
            "text/plain": [
              "Validation: |          | 0/? [00:00<?, ?it/s]"
            ],
            "application/vnd.jupyter.widget-view+json": {
              "version_major": 2,
              "version_minor": 0,
              "model_id": "94f0551ccca44322a83ed3543c5b6d27"
            }
          },
          "metadata": {}
        },
        {
          "output_type": "display_data",
          "data": {
            "text/plain": [
              "Validation: |          | 0/? [00:00<?, ?it/s]"
            ],
            "application/vnd.jupyter.widget-view+json": {
              "version_major": 2,
              "version_minor": 0,
              "model_id": "bdf975fbf59449afaa380ba19dee3def"
            }
          },
          "metadata": {}
        },
        {
          "output_type": "display_data",
          "data": {
            "text/plain": [
              "Validation: |          | 0/? [00:00<?, ?it/s]"
            ],
            "application/vnd.jupyter.widget-view+json": {
              "version_major": 2,
              "version_minor": 0,
              "model_id": "09e0ff58ac574a05b05db278074017aa"
            }
          },
          "metadata": {}
        },
        {
          "output_type": "display_data",
          "data": {
            "text/plain": [
              "Validation: |          | 0/? [00:00<?, ?it/s]"
            ],
            "application/vnd.jupyter.widget-view+json": {
              "version_major": 2,
              "version_minor": 0,
              "model_id": "f73e6fab7e654aa9896193e663709883"
            }
          },
          "metadata": {}
        },
        {
          "output_type": "display_data",
          "data": {
            "text/plain": [
              "Validation: |          | 0/? [00:00<?, ?it/s]"
            ],
            "application/vnd.jupyter.widget-view+json": {
              "version_major": 2,
              "version_minor": 0,
              "model_id": "bdfd367fa83d4e8cb618848979e963a6"
            }
          },
          "metadata": {}
        },
        {
          "output_type": "display_data",
          "data": {
            "text/plain": [
              "Validation: |          | 0/? [00:00<?, ?it/s]"
            ],
            "application/vnd.jupyter.widget-view+json": {
              "version_major": 2,
              "version_minor": 0,
              "model_id": "3ec7b60530044e21b4ab5d4d13653551"
            }
          },
          "metadata": {}
        },
        {
          "output_type": "display_data",
          "data": {
            "text/plain": [
              "Validation: |          | 0/? [00:00<?, ?it/s]"
            ],
            "application/vnd.jupyter.widget-view+json": {
              "version_major": 2,
              "version_minor": 0,
              "model_id": "2809a4d38ac5472a8bf9873fd6f3ca40"
            }
          },
          "metadata": {}
        },
        {
          "output_type": "display_data",
          "data": {
            "text/plain": [
              "Validation: |          | 0/? [00:00<?, ?it/s]"
            ],
            "application/vnd.jupyter.widget-view+json": {
              "version_major": 2,
              "version_minor": 0,
              "model_id": "bbdc952b85924403b221454c13fd90da"
            }
          },
          "metadata": {}
        },
        {
          "output_type": "display_data",
          "data": {
            "text/plain": [
              "Validation: |          | 0/? [00:00<?, ?it/s]"
            ],
            "application/vnd.jupyter.widget-view+json": {
              "version_major": 2,
              "version_minor": 0,
              "model_id": "9ee791a376b94bf387c0a5730b84a8d0"
            }
          },
          "metadata": {}
        },
        {
          "output_type": "display_data",
          "data": {
            "text/plain": [
              "Validation: |          | 0/? [00:00<?, ?it/s]"
            ],
            "application/vnd.jupyter.widget-view+json": {
              "version_major": 2,
              "version_minor": 0,
              "model_id": "33bb146d30284467866c952a63eab3da"
            }
          },
          "metadata": {}
        },
        {
          "output_type": "display_data",
          "data": {
            "text/plain": [
              "Validation: |          | 0/? [00:00<?, ?it/s]"
            ],
            "application/vnd.jupyter.widget-view+json": {
              "version_major": 2,
              "version_minor": 0,
              "model_id": "535bf65807884066a9cb6047a36193e6"
            }
          },
          "metadata": {}
        },
        {
          "output_type": "display_data",
          "data": {
            "text/plain": [
              "Validation: |          | 0/? [00:00<?, ?it/s]"
            ],
            "application/vnd.jupyter.widget-view+json": {
              "version_major": 2,
              "version_minor": 0,
              "model_id": "4f2ddfd33a7a40e48efea588650aeaa1"
            }
          },
          "metadata": {}
        },
        {
          "output_type": "display_data",
          "data": {
            "text/plain": [
              "Validation: |          | 0/? [00:00<?, ?it/s]"
            ],
            "application/vnd.jupyter.widget-view+json": {
              "version_major": 2,
              "version_minor": 0,
              "model_id": "fdaf45a6f92f406f9c6136fba54bb16e"
            }
          },
          "metadata": {}
        },
        {
          "output_type": "display_data",
          "data": {
            "text/plain": [
              "Validation: |          | 0/? [00:00<?, ?it/s]"
            ],
            "application/vnd.jupyter.widget-view+json": {
              "version_major": 2,
              "version_minor": 0,
              "model_id": "56dfc27a29194cff99bb7972ac229d2e"
            }
          },
          "metadata": {}
        },
        {
          "output_type": "display_data",
          "data": {
            "text/plain": [
              "Validation: |          | 0/? [00:00<?, ?it/s]"
            ],
            "application/vnd.jupyter.widget-view+json": {
              "version_major": 2,
              "version_minor": 0,
              "model_id": "95a5f52039c04cd49ecb1459b78836d2"
            }
          },
          "metadata": {}
        },
        {
          "output_type": "display_data",
          "data": {
            "text/plain": [
              "Validation: |          | 0/? [00:00<?, ?it/s]"
            ],
            "application/vnd.jupyter.widget-view+json": {
              "version_major": 2,
              "version_minor": 0,
              "model_id": "40120d2bf1ed4053976c09b0afa938b8"
            }
          },
          "metadata": {}
        },
        {
          "output_type": "display_data",
          "data": {
            "text/plain": [
              "Validation: |          | 0/? [00:00<?, ?it/s]"
            ],
            "application/vnd.jupyter.widget-view+json": {
              "version_major": 2,
              "version_minor": 0,
              "model_id": "86d13148852143f9b2247dbcca7786cd"
            }
          },
          "metadata": {}
        },
        {
          "output_type": "display_data",
          "data": {
            "text/plain": [
              "Validation: |          | 0/? [00:00<?, ?it/s]"
            ],
            "application/vnd.jupyter.widget-view+json": {
              "version_major": 2,
              "version_minor": 0,
              "model_id": "6312e666d23b48d68c7e15f732e2973a"
            }
          },
          "metadata": {}
        },
        {
          "output_type": "display_data",
          "data": {
            "text/plain": [
              "Validation: |          | 0/? [00:00<?, ?it/s]"
            ],
            "application/vnd.jupyter.widget-view+json": {
              "version_major": 2,
              "version_minor": 0,
              "model_id": "2fc67d2e1f47402a8af0f3dd66538245"
            }
          },
          "metadata": {}
        },
        {
          "output_type": "display_data",
          "data": {
            "text/plain": [
              "Validation: |          | 0/? [00:00<?, ?it/s]"
            ],
            "application/vnd.jupyter.widget-view+json": {
              "version_major": 2,
              "version_minor": 0,
              "model_id": "a02c315945684ca7aae32a0f22839bd4"
            }
          },
          "metadata": {}
        },
        {
          "output_type": "display_data",
          "data": {
            "text/plain": [
              "Validation: |          | 0/? [00:00<?, ?it/s]"
            ],
            "application/vnd.jupyter.widget-view+json": {
              "version_major": 2,
              "version_minor": 0,
              "model_id": "567d8769f90f406e9a03d72dd73b19fa"
            }
          },
          "metadata": {}
        },
        {
          "output_type": "display_data",
          "data": {
            "text/plain": [
              "Validation: |          | 0/? [00:00<?, ?it/s]"
            ],
            "application/vnd.jupyter.widget-view+json": {
              "version_major": 2,
              "version_minor": 0,
              "model_id": "4fa56b7bf98a4e9887b55eb33bec5afe"
            }
          },
          "metadata": {}
        },
        {
          "output_type": "display_data",
          "data": {
            "text/plain": [
              "Validation: |          | 0/? [00:00<?, ?it/s]"
            ],
            "application/vnd.jupyter.widget-view+json": {
              "version_major": 2,
              "version_minor": 0,
              "model_id": "2c916ed49c7a4cda82483a1186020ba5"
            }
          },
          "metadata": {}
        },
        {
          "output_type": "display_data",
          "data": {
            "text/plain": [
              "Validation: |          | 0/? [00:00<?, ?it/s]"
            ],
            "application/vnd.jupyter.widget-view+json": {
              "version_major": 2,
              "version_minor": 0,
              "model_id": "34847dfbb46c46908c4dea5c8e64982c"
            }
          },
          "metadata": {}
        },
        {
          "output_type": "display_data",
          "data": {
            "text/plain": [
              "Validation: |          | 0/? [00:00<?, ?it/s]"
            ],
            "application/vnd.jupyter.widget-view+json": {
              "version_major": 2,
              "version_minor": 0,
              "model_id": "7cb71021f252486890bca17b58280ea2"
            }
          },
          "metadata": {}
        },
        {
          "output_type": "display_data",
          "data": {
            "text/plain": [
              "Validation: |          | 0/? [00:00<?, ?it/s]"
            ],
            "application/vnd.jupyter.widget-view+json": {
              "version_major": 2,
              "version_minor": 0,
              "model_id": "fcca68ea573d4daaac7a06f659d8a639"
            }
          },
          "metadata": {}
        },
        {
          "output_type": "display_data",
          "data": {
            "text/plain": [
              "Validation: |          | 0/? [00:00<?, ?it/s]"
            ],
            "application/vnd.jupyter.widget-view+json": {
              "version_major": 2,
              "version_minor": 0,
              "model_id": "bd94a3cf4c3d432d990ef1fa8ddaaadc"
            }
          },
          "metadata": {}
        },
        {
          "output_type": "display_data",
          "data": {
            "text/plain": [
              "Validation: |          | 0/? [00:00<?, ?it/s]"
            ],
            "application/vnd.jupyter.widget-view+json": {
              "version_major": 2,
              "version_minor": 0,
              "model_id": "baa05b45f30f4747a630f4e18f00c3a6"
            }
          },
          "metadata": {}
        },
        {
          "output_type": "display_data",
          "data": {
            "text/plain": [
              "Validation: |          | 0/? [00:00<?, ?it/s]"
            ],
            "application/vnd.jupyter.widget-view+json": {
              "version_major": 2,
              "version_minor": 0,
              "model_id": "ee3194f32e3c4a33acc7f269e2e5123d"
            }
          },
          "metadata": {}
        },
        {
          "output_type": "display_data",
          "data": {
            "text/plain": [
              "Validation: |          | 0/? [00:00<?, ?it/s]"
            ],
            "application/vnd.jupyter.widget-view+json": {
              "version_major": 2,
              "version_minor": 0,
              "model_id": "e7e79e8fcc534ed8acdf6aece1fe4d9a"
            }
          },
          "metadata": {}
        },
        {
          "output_type": "display_data",
          "data": {
            "text/plain": [
              "Validation: |          | 0/? [00:00<?, ?it/s]"
            ],
            "application/vnd.jupyter.widget-view+json": {
              "version_major": 2,
              "version_minor": 0,
              "model_id": "66e0321aa61844b68b812ad8eff019c1"
            }
          },
          "metadata": {}
        },
        {
          "output_type": "display_data",
          "data": {
            "text/plain": [
              "Validation: |          | 0/? [00:00<?, ?it/s]"
            ],
            "application/vnd.jupyter.widget-view+json": {
              "version_major": 2,
              "version_minor": 0,
              "model_id": "91f079c720524b3d9c85bd3f3ef32eb7"
            }
          },
          "metadata": {}
        },
        {
          "output_type": "display_data",
          "data": {
            "text/plain": [
              "Validation: |          | 0/? [00:00<?, ?it/s]"
            ],
            "application/vnd.jupyter.widget-view+json": {
              "version_major": 2,
              "version_minor": 0,
              "model_id": "70a2c2329fe2421bbff768d7581f9dc8"
            }
          },
          "metadata": {}
        },
        {
          "output_type": "display_data",
          "data": {
            "text/plain": [
              "Validation: |          | 0/? [00:00<?, ?it/s]"
            ],
            "application/vnd.jupyter.widget-view+json": {
              "version_major": 2,
              "version_minor": 0,
              "model_id": "237b311fce8a442d8d7d4627f35b56d8"
            }
          },
          "metadata": {}
        },
        {
          "output_type": "display_data",
          "data": {
            "text/plain": [
              "Validation: |          | 0/? [00:00<?, ?it/s]"
            ],
            "application/vnd.jupyter.widget-view+json": {
              "version_major": 2,
              "version_minor": 0,
              "model_id": "e4604b4cff304d5e9d9795592e401471"
            }
          },
          "metadata": {}
        },
        {
          "output_type": "display_data",
          "data": {
            "text/plain": [
              "Validation: |          | 0/? [00:00<?, ?it/s]"
            ],
            "application/vnd.jupyter.widget-view+json": {
              "version_major": 2,
              "version_minor": 0,
              "model_id": "67266c3887b841d58ac227e61f9b1be4"
            }
          },
          "metadata": {}
        },
        {
          "output_type": "display_data",
          "data": {
            "text/plain": [
              "Validation: |          | 0/? [00:00<?, ?it/s]"
            ],
            "application/vnd.jupyter.widget-view+json": {
              "version_major": 2,
              "version_minor": 0,
              "model_id": "1a28f9a7beac48cea01bcc9625508655"
            }
          },
          "metadata": {}
        },
        {
          "output_type": "display_data",
          "data": {
            "text/plain": [
              "Validation: |          | 0/? [00:00<?, ?it/s]"
            ],
            "application/vnd.jupyter.widget-view+json": {
              "version_major": 2,
              "version_minor": 0,
              "model_id": "5107c4ac5d6e4c10bd00236aa7d03536"
            }
          },
          "metadata": {}
        },
        {
          "output_type": "display_data",
          "data": {
            "text/plain": [
              "Validation: |          | 0/? [00:00<?, ?it/s]"
            ],
            "application/vnd.jupyter.widget-view+json": {
              "version_major": 2,
              "version_minor": 0,
              "model_id": "070574375cc341a8b387d083f3543ee4"
            }
          },
          "metadata": {}
        },
        {
          "output_type": "display_data",
          "data": {
            "text/plain": [
              "Validation: |          | 0/? [00:00<?, ?it/s]"
            ],
            "application/vnd.jupyter.widget-view+json": {
              "version_major": 2,
              "version_minor": 0,
              "model_id": "8569af36eee542baadedf6ca9df77ac3"
            }
          },
          "metadata": {}
        },
        {
          "output_type": "display_data",
          "data": {
            "text/plain": [
              "Validation: |          | 0/? [00:00<?, ?it/s]"
            ],
            "application/vnd.jupyter.widget-view+json": {
              "version_major": 2,
              "version_minor": 0,
              "model_id": "e25bd0639b0c47c39998325c8a15a57b"
            }
          },
          "metadata": {}
        },
        {
          "output_type": "display_data",
          "data": {
            "text/plain": [
              "Validation: |          | 0/? [00:00<?, ?it/s]"
            ],
            "application/vnd.jupyter.widget-view+json": {
              "version_major": 2,
              "version_minor": 0,
              "model_id": "9502bb01e2cf431e8f5b01fa9d3bde14"
            }
          },
          "metadata": {}
        },
        {
          "output_type": "display_data",
          "data": {
            "text/plain": [
              "Validation: |          | 0/? [00:00<?, ?it/s]"
            ],
            "application/vnd.jupyter.widget-view+json": {
              "version_major": 2,
              "version_minor": 0,
              "model_id": "3e876d8c913a4ead8e97e612815103b0"
            }
          },
          "metadata": {}
        },
        {
          "output_type": "display_data",
          "data": {
            "text/plain": [
              "Validation: |          | 0/? [00:00<?, ?it/s]"
            ],
            "application/vnd.jupyter.widget-view+json": {
              "version_major": 2,
              "version_minor": 0,
              "model_id": "0fb47eacc9e34ea0b71a9b58b49cd1b6"
            }
          },
          "metadata": {}
        },
        {
          "output_type": "display_data",
          "data": {
            "text/plain": [
              "Validation: |          | 0/? [00:00<?, ?it/s]"
            ],
            "application/vnd.jupyter.widget-view+json": {
              "version_major": 2,
              "version_minor": 0,
              "model_id": "7afafc3e94e14c46a4bd9019ae644ce1"
            }
          },
          "metadata": {}
        },
        {
          "output_type": "stream",
          "name": "stderr",
          "text": [
            "INFO:pytorch_lightning.utilities.rank_zero:`Trainer.fit` stopped: `max_epochs=50` reached.\n"
          ]
        },
        {
          "output_type": "stream",
          "name": "stdout",
          "text": [
            "Train Accuracy: 0.9890 | Train Loss: 0.0663\n",
            "Validation Accuracy: 0.9670 | Validation Loss: 0.1275\n",
            "Test Accuracy: 0.9649 | Test Loss: 0.1033\n",
            "Sample Predictions: [[1. 0. 0. 1. 1. 0. 0. 0. 0. 1.]]\n"
          ]
        }
      ]
    },
    {
      "cell_type": "markdown",
      "source": [
        "# **Do the environments use GPU implicitly?**\n",
        "- **TensorFlow/Keras** - Yes, if a GPU is available, it is used automatically.  \n",
        "- **PyTorch** - No, it defaults to CPU unless explicitly moved to GPU (`model.to(\"cuda\")`).  \n",
        "- **PyTorch Lightning** - Yes, but only if `accelerator=\"gpu\"` is set in the `Trainer`. Otherwise, it defaults to CPU.  "
      ],
      "metadata": {
        "id": "udZSg3WKo_ih"
      }
    },
    {
      "cell_type": "code",
      "source": [
        "# Tensorflow:\n",
        "import tensorflow as tf\n",
        "print(\"Is TensorFlow using GPU?\", tf.config.list_physical_devices('GPU'))\n",
        "\n",
        "#import os\n",
        "#os.environ[\"CUDA_VISIBLE_DEVICES\"] = \"-1\"  # TO CPU"
      ],
      "metadata": {
        "colab": {
          "base_uri": "https://localhost:8080/"
        },
        "id": "dFr_YhqNpNBv",
        "outputId": "56dafd69-9e39-4ca3-db1c-c30279799abf"
      },
      "execution_count": 12,
      "outputs": [
        {
          "output_type": "stream",
          "name": "stdout",
          "text": [
            "Is TensorFlow using GPU? [PhysicalDevice(name='/physical_device:GPU:0', device_type='GPU')]\n"
          ]
        }
      ]
    },
    {
      "cell_type": "code",
      "source": [
        "# Pytorch:\n",
        "import torch\n",
        "print(\"Is CUDA available?\", torch.cuda.is_available())\n",
        "\n",
        "device = torch.device(\"cuda\" if torch.cuda.is_available() else \"cpu\")\n",
        "model.to(device)\n",
        "X_train, y_train = X_train.to(device), y_train.to(device)"
      ],
      "metadata": {
        "colab": {
          "base_uri": "https://localhost:8080/"
        },
        "id": "XDb80hpbpSGH",
        "outputId": "b0fad751-e9cd-4ffb-8c8c-3725228f1ac1"
      },
      "execution_count": 13,
      "outputs": [
        {
          "output_type": "stream",
          "name": "stdout",
          "text": [
            "Is CUDA available? True\n"
          ]
        }
      ]
    },
    {
      "cell_type": "code",
      "source": [
        "# Lightning:\n",
        "trainer = pl.Trainer(accelerator=\"gpu\", devices=1)  # TO GPU\n",
        "#trainer = pl.Trainer(accelerator=\"cpu\")"
      ],
      "metadata": {
        "colab": {
          "base_uri": "https://localhost:8080/"
        },
        "id": "B3PaeNBUp0WR",
        "outputId": "20c4213b-f89c-4ddf-d21a-e7c1a2baaf88"
      },
      "execution_count": 14,
      "outputs": [
        {
          "output_type": "stream",
          "name": "stderr",
          "text": [
            "INFO:pytorch_lightning.utilities.rank_zero:💡 Tip: For seamless cloud uploads and versioning, try installing [litmodels](https://pypi.org/project/litmodels/) to enable LitModelCheckpoint, which syncs automatically with the Lightning model registry.\n",
            "INFO:pytorch_lightning.utilities.rank_zero:GPU available: True (cuda), used: True\n",
            "INFO:pytorch_lightning.utilities.rank_zero:TPU available: False, using: 0 TPU cores\n",
            "INFO:pytorch_lightning.utilities.rank_zero:HPU available: False, using: 0 HPUs\n"
          ]
        }
      ]
    },
    {
      "cell_type": "markdown",
      "source": [
        "### **Using GPU in Google Colab**\n",
        "By default, Google Colab runs on a CPU. To enable GPU acceleration:\n",
        "\n",
        "1. **Go to:** `Runtime` → `Change runtime type`\n",
        "2. **Select:** `Hardware accelerator` → `GPU`\n",
        "3. **Click:** `Save`\n",
        "\n",
        "To verify that a GPU is available in PyTorch or TensorFlow, run:\n"
      ],
      "metadata": {
        "id": "vqX2R_FKrIY1"
      }
    },
    {
      "cell_type": "code",
      "source": [
        "import torch\n",
        "print(\"Is GPU available?\", torch.cuda.is_available())\n",
        "print(\"GPU name:\", torch.cuda.get_device_name(0) if torch.cuda.is_available() else \"No GPU found\")"
      ],
      "metadata": {
        "colab": {
          "base_uri": "https://localhost:8080/"
        },
        "id": "zTSRp7FsrRId",
        "outputId": "79b3cb78-d04f-4fbd-f79f-0adcc94a6e9c"
      },
      "execution_count": 15,
      "outputs": [
        {
          "output_type": "stream",
          "name": "stdout",
          "text": [
            "Is GPU available? True\n",
            "GPU name: Tesla T4\n"
          ]
        }
      ]
    },
    {
      "cell_type": "code",
      "source": [
        "import tensorflow as tf\n",
        "\n",
        "if tf.config.list_physical_devices('GPU'):\n",
        "  print(\"GPU is available and being used by TensorFlow\")\n",
        "else:\n",
        "  print(\"GPU is not available or not being used by TensorFlow\")"
      ],
      "metadata": {
        "id": "LUxcagDqrdch",
        "outputId": "e8a65013-57ce-46fb-900d-850fd5c60562",
        "colab": {
          "base_uri": "https://localhost:8080/"
        }
      },
      "execution_count": 16,
      "outputs": [
        {
          "output_type": "stream",
          "name": "stdout",
          "text": [
            "GPU is available and being used by TensorFlow\n"
          ]
        }
      ]
    },
    {
      "cell_type": "markdown",
      "source": [
        "# Current versions of packages:"
      ],
      "metadata": {
        "id": "D-UD-J5IlTW9"
      }
    },
    {
      "cell_type": "code",
      "source": [
        "import tensorflow as tf\n",
        "import keras\n",
        "import torch\n",
        "\n",
        "print(f\"TensorFlow version: {tf.__version__}\")\n",
        "print(f\"Keras version: {keras.__version__}\")\n",
        "print(f\"PyTorch version: {torch.__version__}\")"
      ],
      "metadata": {
        "colab": {
          "base_uri": "https://localhost:8080/"
        },
        "id": "PrYm862FoCH8",
        "outputId": "7302c6cd-ceb6-466a-f733-2a005dd0386f"
      },
      "execution_count": 17,
      "outputs": [
        {
          "output_type": "stream",
          "name": "stdout",
          "text": [
            "TensorFlow version: 2.19.0\n",
            "Keras version: 3.10.0\n",
            "PyTorch version: 2.8.0+cu126\n"
          ]
        }
      ]
    }
  ]
}
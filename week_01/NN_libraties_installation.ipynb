{
  "nbformat": 4,
  "nbformat_minor": 0,
  "metadata": {
    "colab": {
      "provenance": [],
      "toc_visible": true,
      "authorship_tag": "ABX9TyMZBBXuPjxh2RMRF6/UaK8O",
      "include_colab_link": true
    },
    "kernelspec": {
      "name": "python3",
      "display_name": "Python 3"
    },
    "language_info": {
      "name": "python"
    }
  },
  "cells": [
    {
      "cell_type": "markdown",
      "metadata": {
        "id": "view-in-github",
        "colab_type": "text"
      },
      "source": [
        "<a href=\"https://colab.research.google.com/github/reitezuz/18NES2-2025/blob/main/week_01/NN_libraties_installation.ipynb\" target=\"_parent\"><img src=\"https://colab.research.google.com/assets/colab-badge.svg\" alt=\"Open In Colab\"/></a>"
      ]
    },
    {
      "cell_type": "markdown",
      "source": [
        "# Installation guide\n",
        "This guide may help you install **Keras (via TensorFlow)** and **PyTorch** on your local machine, with optional support for **GPU acceleration using CUDA** if you have an NVIDIA GPU.\n",
        "\n",
        "## Python\n",
        "- The recommended Python versions are 3.11 or 3.12 for best compatability.\n",
        "- **TensorFlow does not currently support Python 3.13.**\n",
        "- You can check your Python version using:\n",
        "\n",
        "```python --version```\n",
        "- you can download Python from: https://www.python.org/downloads/\n",
        "\n",
        "## Creating a Virtual Environment\n",
        "- Python supports virtual environments, which are directories containing independent sets of installed packages.\n",
        "- Installing packages in a dedicated virtual environment helps ensure that everything continues to work as expected over time (project dependencies remain isolated and consistent).\n",
        "\n",
        "\n",
        "```\n",
        "# Create a Virtual environment\n",
        "python -m venv keras_pytorch_env\n",
        "```\n",
        "```\n",
        "# Activate it:\n",
        "# On Windows\n",
        ".\\keras_pytorch_env\\Scripts\\activate\n",
        "\n",
        "# On macOS/Linux\n",
        "source keras_pytorch_env/bin/activate\n",
        "```\n",
        "... (install packages, run python programs)\n",
        "```\n",
        "# Deactivate the environment after installation:\n",
        "deactivate\n",
        "```\n",
        "- we can easily assign a virtual environment to a project in VSCode"
      ],
      "metadata": {
        "id": "uOOdOuEiewvM"
      }
    },
    {
      "cell_type": "markdown",
      "source": [
        "# Installation without GPU support (CPU-only)\n",
        "- We will start with the simplest case: installing for **CPU-only systems**.\n",
        "\n",
        "\n",
        "### TensorFlow (Includes Keras)\n",
        "- Official guide: https://www.tensorflow.org/install/pip\n",
        "\n",
        "- To install the CPU-only version of TensorFlow:\n",
        "```\n",
        "pip install tensorflow\n",
        "```\n",
        "- This automatically installs Keras, since it is part of the TensorFlow package.\n",
        "\n",
        "### PyTorch\n",
        "- Official guide: https://pytorch.org/get-started/locally/\n",
        "- Use the configurator on the site to get the right command for your OS and Python version.\n",
        "- For Windows + CPU:\n",
        "```\n",
        "pip install torch torchvision torchaudio\n",
        "```\n",
        "\n",
        "### Keras (Optional Upgrade)\n",
        "- Official guide for Keras: https://keras.io/getting_started/#configuring-your-backend\n",
        "- Even though Keras is part of TensorFlow, it’s a good idea to ensure the latest version:\n",
        "```\n",
        "pip install --upgrade keras\n",
        "```\n",
        "\n",
        "\n",
        "# Installation with GPU Support (Optional)\n",
        "- If you have an NVIDIA GPU and want to leverage GPU acceleration:\n",
        "\n",
        "### Requirements:\n",
        "1. Compatible GPU (check TensorFlow GPU requirements, >= 525.60.13 for Linux,  >= 528.33 for WSL on Windows)\n",
        "2. Installed compatible system-wide drivers and toolkits:\n",
        "*   NVIDIA driver\n",
        "*   CUDA Toolkit (e.g. CUDA 12.4 for TensorFlow 2.17 and PyTorch CUDA 124)\n",
        "*   cuDNN (e.g. cuDNN 8.9.7)\n",
        "\n",
        "These are usually installed system-wide, outside of Python.\n",
        "\n",
        "\n",
        "### Check the versions:\n",
        "- Check your GPU Name, Driver Version and CUDA Version (runtime that your driver supports):\n",
        "```\n",
        "nvidia-smi\n",
        "```\n",
        "- Check Installed CUDA Toolkit Version:\n",
        "```\n",
        "nvcc --version\n",
        "```\n",
        "- Optionally: Check cuDNN Version (for example, for Linux):\n",
        "```\n",
        "cat /usr/include/cudnn_version.h | grep CUDNN_MAJOR -A 2\n",
        "```\n",
        "\n",
        "- For the latest versions of TensorFlow (e.g., 2.17) and PyTorch, CUDA 12.4 appears to be the most compatible and recommended choice.\n",
        "- If you prefer to use an older version of CUDA (e.g. 12.1), make sure to install the corresponding compatible versions of both TensorFlow and PyTorch.\n",
        "\n",
        "### Downloads:\n",
        "- NVIDIA GPU Driver:  https://www.nvidia.com/Download/index.aspx\n",
        "- CUDA Toolkit: https://developer.nvidia.com/cuda-downloads\n",
        "- cuDNN (Deep Neural Network library): Since CUDA 11.2, cuDNN is included in CUDA Toolkit\n",
        "\n",
        "## Install TensorFlow with GPU support\n",
        "- Starting with TensorFlow 2.10, the pip package includes GPU support if the correct drivers are installed.\n",
        "- Go to the official TensorFlow installation page (https://www.tensorflow.org/install/pip) and see the the install commands for your  OS.\n",
        "- Example command for Windows WSL2:\n",
        "```\n",
        "pip install tensorflow[and-cuda]\n",
        "```\n",
        "- for older version of CUDA (CUDA 12.1):\n",
        "```\n",
        "pip install tensorflow[and-cuda]==2.15\n",
        "```\n",
        "- Use this simple command - TensorFlow will automatically detect and use your GPU if your system is correctly configured.\n",
        "- **Caution:** TensorFlow 2.10 was the last TensorFlow release that supported GPU on native-Windows. Starting with TensorFlow 2.11, you will need to install TensorFlow in WSL2 (or you can use CPU computations)\n",
        "\n",
        "\n",
        "## Install PyTorch with GPU (CUDA)\n",
        "- Go to the official PyTorch installation page (https://pytorch.org/get-started/locally/) and select:\n",
        "  - OS: your system (e.g. Windows)\n",
        "  - Package: pip\n",
        "  - Language: Python\n",
        "  - Compute Platform: CUDA 12.4 or other version\n",
        "\n",
        "- Example command for CUDA 12.4:\n",
        "```\n",
        "pip3 install torch torchvision torchaudio --index-url https://download.pytorch.org/whl/cu124\n",
        "```\n",
        "\n",
        "## Verifying Installation\n",
        "### TensorFlow (and Keras)\n",
        "```\n",
        "import tensorflow as tf\n",
        "print(\"TensorFlow version:\", tf.__version__)\n",
        "print(\"GPUs available:\", len(tf.config.list_physical_devices('GPU')))\n",
        "```\n",
        "\n",
        "###PyTorch\n",
        "```\n",
        "import torch\n",
        "print(\"PyTorch version:\", torch.__version__)\n",
        "print(\"CUDA available:\", torch.cuda.is_available())\n",
        "```\n",
        "\n",
        "#  Install Extra Packages\n",
        "```\n",
        "pip install matplotlib pandas scikit-learn\n",
        "```"
      ],
      "metadata": {
        "id": "sHuoW68u_CDf"
      }
    },
    {
      "cell_type": "markdown",
      "source": [
        "\n",
        "### Check current versions of your packages:"
      ],
      "metadata": {
        "id": "s1FnpTO3-xSt"
      }
    },
    {
      "cell_type": "code",
      "source": [
        "import tensorflow as tf\n",
        "import keras\n",
        "import torch\n",
        "\n",
        "print(f\"TensorFlow version: {tf.__version__}\")\n",
        "print(f\"Keras version: {keras.__version__}\")\n",
        "print(f\"PyTorch version: {torch.__version__}\")"
      ],
      "metadata": {
        "colab": {
          "base_uri": "https://localhost:8080/"
        },
        "id": "0lrozEzwiHzk",
        "outputId": "01aba348-2351-471d-8ae0-faa519228397"
      },
      "execution_count": null,
      "outputs": [
        {
          "output_type": "stream",
          "name": "stdout",
          "text": [
            "TensorFlow version: 2.18.0\n",
            "Keras version: 3.8.0\n",
            "PyTorch version: 2.6.0+cu124\n"
          ]
        }
      ]
    },
    {
      "cell_type": "markdown",
      "source": [
        "### Check the GPU availibility:"
      ],
      "metadata": {
        "id": "JgKti3YyDRUd"
      }
    },
    {
      "cell_type": "code",
      "execution_count": null,
      "metadata": {
        "colab": {
          "base_uri": "https://localhost:8080/"
        },
        "id": "mY_gfk8eevPd",
        "outputId": "f0ec44b5-db1f-434d-f3b6-f195f1ee5af0"
      },
      "outputs": [
        {
          "output_type": "stream",
          "name": "stdout",
          "text": [
            "Is TensorFlow using GPU? []\n"
          ]
        }
      ],
      "source": [
        "import tensorflow as tf\n",
        "print(\"Is TensorFlow using GPU?\", tf.config.list_physical_devices('GPU'))"
      ]
    },
    {
      "cell_type": "code",
      "source": [
        "import torch\n",
        "print(\"Is CUDA available?\", torch.cuda.is_available())"
      ],
      "metadata": {
        "colab": {
          "base_uri": "https://localhost:8080/"
        },
        "id": "yHaGLkD5Da5e",
        "outputId": "f02818d5-d162-46fd-d60c-fbb8ab0a838a"
      },
      "execution_count": null,
      "outputs": [
        {
          "output_type": "stream",
          "name": "stdout",
          "text": [
            "Is CUDA available? False\n"
          ]
        }
      ]
    }
  ]
}